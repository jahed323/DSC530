{
 "cells": [
  {
   "cell_type": "code",
   "execution_count": 1,
   "id": "a88ad54f",
   "metadata": {},
   "outputs": [],
   "source": [
    "from __future__ import print_function, division\n",
    "\n",
    "%matplotlib inline\n",
    "\n",
    "import numpy as np\n",
    "\n",
    "import nsfg\n",
    "import first\n",
    "import thinkstats2\n",
    "import thinkplot"
   ]
  },
  {
   "cell_type": "markdown",
   "id": "2ef9de0b",
   "metadata": {},
   "source": [
    "Use the NSFG respondent variable NUMKDHH to construct the actual distribution for the\n",
    "number of children under 18 in the household."
   ]
  },
  {
   "cell_type": "code",
   "execution_count": 2,
   "id": "1cf9eeef",
   "metadata": {},
   "outputs": [],
   "source": [
    "resp = nsfg.ReadFemResp()\n",
    "pmf = thinkstats2.Pmf(resp.numkdhh, label='NUMKDHH')"
   ]
  },
  {
   "cell_type": "markdown",
   "id": "ab46181d",
   "metadata": {},
   "source": [
    "Plot the PMF"
   ]
  },
  {
   "cell_type": "code",
   "execution_count": 3,
   "id": "521041ca",
   "metadata": {},
   "outputs": [
    {
     "data": {
      "image/png": "[encoded data removed]",
      "text/plain": [
       "<Figure size 432x288 with 1 Axes>"
      ]
     },
     "metadata": {
      "needs_background": "light"
     },
     "output_type": "display_data"
    }
   ],
   "source": [
    "thinkplot.Pmf(pmf)\n",
    "thinkplot.Config(xlabel= 'Houshold Size', ylabel = 'Pmf')"
   ]
  },
  {
   "cell_type": "markdown",
   "id": "b4ab033e",
   "metadata": {},
   "source": [
    "Now compute the biased distribution we would see if we surveyed the children and\n",
    "asked them how many children under 18 (including themselves) are in their household."
   ]
  },
  {
   "cell_type": "code",
   "execution_count": 4,
   "id": "98e26f74",
   "metadata": {},
   "outputs": [],
   "source": [
    "# This function computes the biased PMF\n",
    "def BiasPmf(pmf, label):\n",
    "    new_pmf = pmf.Copy(label=label)\n",
    "\n",
    "    for x, p in pmf.Items():\n",
    "        new_pmf.Mult(x, x)\n",
    "        \n",
    "    new_pmf.Normalize()\n",
    "    return new_pmf"
   ]
  },
  {
   "cell_type": "markdown",
   "id": "a0f2d84a",
   "metadata": {},
   "source": [
    "Plot the actual and biased distributions."
   ]
  },
  {
   "cell_type": "code",
   "execution_count": 5,
   "id": "4eb06a37",
   "metadata": {},
   "outputs": [
    {
     "data": {
      "image/png": "[encoded data removed]",
      "text/plain": [
       "<Figure size 432x288 with 1 Axes>"
      ]
     },
     "metadata": {
      "needs_background": "light"
     },
     "output_type": "display_data"
    }
   ],
   "source": [
    "biased_pmf = BiasPmf(pmf, label='observed')\n",
    "thinkplot.PrePlot(2)\n",
    "thinkplot.Pmfs([pmf, biased_pmf])\n",
    "thinkplot.Config(xlabel='Houshold Size', ylabel='Pmf')"
   ]
  },
  {
   "cell_type": "markdown",
   "id": "d3de6752",
   "metadata": {},
   "source": [
    "Compute their means."
   ]
  },
  {
   "cell_type": "code",
   "execution_count": 6,
   "id": "9373a1e9",
   "metadata": {},
   "outputs": [
    {
     "name": "stdout",
     "output_type": "stream",
     "text": [
      "NUMKDHH mean 1.024205155043831\n",
      "Observed mean 2.403679100664282\n"
     ]
    }
   ],
   "source": [
    "print('NUMKDHH mean', pmf.Mean())\n",
    "print('Observed mean', biased_pmf.Mean())"
   ]
  },
  {
   "cell_type": "code",
   "execution_count": null,
   "id": "bc4f3664",
   "metadata": {},
   "outputs": [],
   "source": []
  }
 ],
 "metadata": {
  "kernelspec": {
   "display_name": "Python 3 (ipykernel)",
   "language": "python",
   "name": "python3"
  },
  "language_info": {
   "codemirror_mode": {
    "name": "ipython",
    "version": 3
   },
   "file_extension": ".py",
   "mimetype": "text/x-python",
   "name": "python",
   "nbconvert_exporter": "python",
   "pygments_lexer": "ipython3",
   "version": "3.9.7"
  }
 },
 "nbformat": 4,
 "nbformat_minor": 5
}
