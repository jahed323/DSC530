{
 "cells": [
  {
   "cell_type": "code",
   "execution_count": 1,
   "id": "fc21538f",
   "metadata": {},
   "outputs": [],
   "source": [
    "from __future__ import print_function, division\n",
    "\n",
    "%matplotlib inline\n",
    "\n",
    "import numpy as np\n",
    "\n",
    "import nsfg\n",
    "import first\n",
    "import thinkstats2\n",
    "import thinkplot"
   ]
  },
  {
   "cell_type": "markdown",
   "id": "b2c4aa5c",
   "metadata": {},
   "source": [
    "Using the NSFG data (all live births)"
   ]
  },
  {
   "cell_type": "code",
   "execution_count": 2,
   "id": "20059063",
   "metadata": {},
   "outputs": [],
   "source": [
    "live, firsts, others = first.MakeFrames()"
   ]
  },
  {
   "cell_type": "markdown",
   "id": "4c9d0849",
   "metadata": {},
   "source": [
    "Compute the distribution of birth weights and use it to find your percentile rank."
   ]
  },
  {
   "cell_type": "code",
   "execution_count": 3,
   "id": "136cf1cf",
   "metadata": {},
   "outputs": [],
   "source": [
    "other_cdf = thinkstats2.Cdf(others.totalwgt_lb, label='other')"
   ]
  },
  {
   "cell_type": "code",
   "execution_count": 4,
   "id": "a7537aaa",
   "metadata": {},
   "outputs": [
    {
     "data": {
      "text/plain": [
       "38.67379679144385"
      ]
     },
     "execution_count": 4,
     "metadata": {},
     "output_type": "execute_result"
    }
   ],
   "source": [
    "other_cdf.PercentileRank(7)"
   ]
  },
  {
   "cell_type": "code",
   "execution_count": null,
   "id": "0bfb31cf",
   "metadata": {},
   "outputs": [],
   "source": []
  }
 ],
 "metadata": {
  "kernelspec": {
   "display_name": "Python 3 (ipykernel)",
   "language": "python",
   "name": "python3"
  },
  "language_info": {
   "codemirror_mode": {
    "name": "ipython",
    "version": 3
   },
   "file_extension": ".py",
   "mimetype": "text/x-python",
   "name": "python",
   "nbconvert_exporter": "python",
   "pygments_lexer": "ipython3",
   "version": "3.9.7"
  }
 },
 "nbformat": 4,
 "nbformat_minor": 5
}
