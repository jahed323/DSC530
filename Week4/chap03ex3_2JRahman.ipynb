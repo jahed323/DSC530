{
 "cells": [
  {
   "cell_type": "code",
   "execution_count": 1,
   "id": "667749e9",
   "metadata": {},
   "outputs": [],
   "source": [
    "from __future__ import print_function, division\n",
    "\n",
    "%matplotlib inline\n",
    "\n",
    "import numpy as np\n",
    "\n",
    "import nsfg\n",
    "import first\n",
    "import thinkstats2\n",
    "import thinkplot\n",
    "\n",
    "resp = nsfg.ReadFemResp()\n",
    "pmf = thinkstats2.Pmf(resp.numkdhh, label='NUMKDHH')"
   ]
  },
  {
   "cell_type": "markdown",
   "id": "6cc0830f",
   "metadata": {},
   "source": [
    "Function to compute Pmf mean."
   ]
  },
  {
   "cell_type": "code",
   "execution_count": 2,
   "id": "3828231d",
   "metadata": {},
   "outputs": [],
   "source": [
    "def PmfMean(pmf):\n",
    "    mean = sum(p * x for x, p in pmf.Items())\n",
    "    return mean"
   ]
  },
  {
   "cell_type": "markdown",
   "id": "1fc9a30a",
   "metadata": {},
   "source": [
    "Check output and check that it is consistent with the method Mean provided by Pmf."
   ]
  },
  {
   "cell_type": "code",
   "execution_count": 3,
   "id": "1cda7eae",
   "metadata": {},
   "outputs": [
    {
     "data": {
      "text/plain": [
       "1.024205155043831"
      ]
     },
     "execution_count": 3,
     "metadata": {},
     "output_type": "execute_result"
    }
   ],
   "source": [
    "PmfMean(pmf)"
   ]
  },
  {
   "cell_type": "code",
   "execution_count": 4,
   "id": "ebf37932",
   "metadata": {},
   "outputs": [
    {
     "data": {
      "text/plain": [
       "1.024205155043831"
      ]
     },
     "execution_count": 4,
     "metadata": {},
     "output_type": "execute_result"
    }
   ],
   "source": [
    "pmf.Mean()"
   ]
  },
  {
   "cell_type": "markdown",
   "id": "302e2d8d",
   "metadata": {},
   "source": [
    "Function to compute Pmf variance."
   ]
  },
  {
   "cell_type": "code",
   "execution_count": 5,
   "id": "2f82d830",
   "metadata": {},
   "outputs": [],
   "source": [
    "def PmfVar(pmf):\n",
    "    mu = PmfMean(pmf)\n",
    "    var = sum(p * (x-mu)** 2 for x, p in pmf.Items())\n",
    "    return var"
   ]
  },
  {
   "cell_type": "markdown",
   "id": "d9a52c33",
   "metadata": {},
   "source": [
    "Check output and check that it is consistent with the method Var provided by Pmf."
   ]
  },
  {
   "cell_type": "code",
   "execution_count": 6,
   "id": "3c52da2a",
   "metadata": {},
   "outputs": [
    {
     "data": {
      "text/plain": [
       "1.4128643263531195"
      ]
     },
     "execution_count": 6,
     "metadata": {},
     "output_type": "execute_result"
    }
   ],
   "source": [
    "PmfVar(pmf)"
   ]
  },
  {
   "cell_type": "code",
   "execution_count": 7,
   "id": "1691c5ef",
   "metadata": {},
   "outputs": [
    {
     "data": {
      "text/plain": [
       "1.4128643263531195"
      ]
     },
     "execution_count": 7,
     "metadata": {},
     "output_type": "execute_result"
    }
   ],
   "source": [
    "pmf.Var()"
   ]
  },
  {
   "cell_type": "code",
   "execution_count": null,
   "id": "c81a940a",
   "metadata": {},
   "outputs": [],
   "source": []
  }
 ],
 "metadata": {
  "kernelspec": {
   "display_name": "Python 3 (ipykernel)",
   "language": "python",
   "name": "python3"
  },
  "language_info": {
   "codemirror_mode": {
    "name": "ipython",
    "version": 3
   },
   "file_extension": ".py",
   "mimetype": "text/x-python",
   "name": "python",
   "nbconvert_exporter": "python",
   "pygments_lexer": "ipython3",
   "version": "3.9.7"
  }
 },
 "nbformat": 4,
 "nbformat_minor": 5
}
