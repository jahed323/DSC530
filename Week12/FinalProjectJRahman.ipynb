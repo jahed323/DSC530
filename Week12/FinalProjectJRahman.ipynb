{
 "cells": [
  {
   "cell_type": "markdown",
   "id": "d4a38769",
   "metadata": {},
   "source": [
    "# Final Project: Gender Pay Gap\n",
    "\n",
    "DSC 530  \n",
    "\n",
    "Jahedur Rahman  "
   ]
  },
  {
   "cell_type": "code",
   "execution_count": 1,
   "id": "d888ca2b",
   "metadata": {},
   "outputs": [],
   "source": [
    "from __future__ import print_function, division\n",
    "\n",
    "%matplotlib inline\n",
    "\n",
    "import matplotlib.pyplot as plt\n",
    "import statsmodels.formula.api as smf\n",
    "import pandas as pd\n",
    "import numpy as np\n",
    "import analytic\n",
    "import random\n",
    "\n",
    "import thinkstats2\n",
    "import thinkplot\n",
    "\n",
    "import scipy.stats as stats"
   ]
  },
  {
   "cell_type": "markdown",
   "id": "290aa6ee",
   "metadata": {},
   "source": [
    "## Import and Clean Data Set"
   ]
  },
  {
   "cell_type": "code",
   "execution_count": 2,
   "id": "14d8ddc5",
   "metadata": {},
   "outputs": [],
   "source": [
    "# Read dataset and into data frame\n",
    "original_glassdoor_df = pd.read_csv('Glassdoor-Gender-Pay-Gap.csv')"
   ]
  },
  {
   "cell_type": "code",
   "execution_count": 3,
   "id": "6c092fc7",
   "metadata": {},
   "outputs": [
    {
     "data": {
      "text/html": [
       "<div>\n",
       "<style scoped>\n",
       "    .dataframe tbody tr th:only-of-type {\n",
       "        vertical-align: middle;\n",
       "    }\n",
       "\n",
       "    .dataframe tbody tr th {\n",
       "        vertical-align: top;\n",
       "    }\n",
       "\n",
       "    .dataframe thead th {\n",
       "        text-align: right;\n",
       "    }\n",
       "</style>\n",
       "<table border=\"1\" class=\"dataframe\">\n",
       "  <thead>\n",
       "    <tr style=\"text-align: right;\">\n",
       "      <th></th>\n",
       "      <th>JobTitle</th>\n",
       "      <th>Gender</th>\n",
       "      <th>Age</th>\n",
       "      <th>PerfEval</th>\n",
       "      <th>Education</th>\n",
       "      <th>Dept</th>\n",
       "      <th>Seniority</th>\n",
       "      <th>BasePay</th>\n",
       "      <th>Bonus</th>\n",
       "    </tr>\n",
       "  </thead>\n",
       "  <tbody>\n",
       "    <tr>\n",
       "      <th>0</th>\n",
       "      <td>Graphic Designer</td>\n",
       "      <td>Female</td>\n",
       "      <td>18</td>\n",
       "      <td>5</td>\n",
       "      <td>College</td>\n",
       "      <td>Operations</td>\n",
       "      <td>2</td>\n",
       "      <td>42363</td>\n",
       "      <td>9938</td>\n",
       "    </tr>\n",
       "    <tr>\n",
       "      <th>1</th>\n",
       "      <td>Software Engineer</td>\n",
       "      <td>Male</td>\n",
       "      <td>21</td>\n",
       "      <td>5</td>\n",
       "      <td>College</td>\n",
       "      <td>Management</td>\n",
       "      <td>5</td>\n",
       "      <td>108476</td>\n",
       "      <td>11128</td>\n",
       "    </tr>\n",
       "    <tr>\n",
       "      <th>2</th>\n",
       "      <td>Warehouse Associate</td>\n",
       "      <td>Female</td>\n",
       "      <td>19</td>\n",
       "      <td>4</td>\n",
       "      <td>PhD</td>\n",
       "      <td>Administration</td>\n",
       "      <td>5</td>\n",
       "      <td>90208</td>\n",
       "      <td>9268</td>\n",
       "    </tr>\n",
       "    <tr>\n",
       "      <th>3</th>\n",
       "      <td>Software Engineer</td>\n",
       "      <td>Male</td>\n",
       "      <td>20</td>\n",
       "      <td>5</td>\n",
       "      <td>Masters</td>\n",
       "      <td>Sales</td>\n",
       "      <td>4</td>\n",
       "      <td>108080</td>\n",
       "      <td>10154</td>\n",
       "    </tr>\n",
       "    <tr>\n",
       "      <th>4</th>\n",
       "      <td>Graphic Designer</td>\n",
       "      <td>Male</td>\n",
       "      <td>26</td>\n",
       "      <td>5</td>\n",
       "      <td>Masters</td>\n",
       "      <td>Engineering</td>\n",
       "      <td>5</td>\n",
       "      <td>99464</td>\n",
       "      <td>9319</td>\n",
       "    </tr>\n",
       "    <tr>\n",
       "      <th>...</th>\n",
       "      <td>...</td>\n",
       "      <td>...</td>\n",
       "      <td>...</td>\n",
       "      <td>...</td>\n",
       "      <td>...</td>\n",
       "      <td>...</td>\n",
       "      <td>...</td>\n",
       "      <td>...</td>\n",
       "      <td>...</td>\n",
       "    </tr>\n",
       "    <tr>\n",
       "      <th>995</th>\n",
       "      <td>Marketing Associate</td>\n",
       "      <td>Female</td>\n",
       "      <td>61</td>\n",
       "      <td>1</td>\n",
       "      <td>High School</td>\n",
       "      <td>Administration</td>\n",
       "      <td>1</td>\n",
       "      <td>62644</td>\n",
       "      <td>3270</td>\n",
       "    </tr>\n",
       "    <tr>\n",
       "      <th>996</th>\n",
       "      <td>Data Scientist</td>\n",
       "      <td>Male</td>\n",
       "      <td>57</td>\n",
       "      <td>1</td>\n",
       "      <td>Masters</td>\n",
       "      <td>Sales</td>\n",
       "      <td>2</td>\n",
       "      <td>108977</td>\n",
       "      <td>3567</td>\n",
       "    </tr>\n",
       "    <tr>\n",
       "      <th>997</th>\n",
       "      <td>Financial Analyst</td>\n",
       "      <td>Male</td>\n",
       "      <td>48</td>\n",
       "      <td>1</td>\n",
       "      <td>High School</td>\n",
       "      <td>Operations</td>\n",
       "      <td>1</td>\n",
       "      <td>92347</td>\n",
       "      <td>2724</td>\n",
       "    </tr>\n",
       "    <tr>\n",
       "      <th>998</th>\n",
       "      <td>Financial Analyst</td>\n",
       "      <td>Male</td>\n",
       "      <td>65</td>\n",
       "      <td>2</td>\n",
       "      <td>High School</td>\n",
       "      <td>Administration</td>\n",
       "      <td>1</td>\n",
       "      <td>97376</td>\n",
       "      <td>2225</td>\n",
       "    </tr>\n",
       "    <tr>\n",
       "      <th>999</th>\n",
       "      <td>Financial Analyst</td>\n",
       "      <td>Male</td>\n",
       "      <td>60</td>\n",
       "      <td>1</td>\n",
       "      <td>PhD</td>\n",
       "      <td>Sales</td>\n",
       "      <td>2</td>\n",
       "      <td>123108</td>\n",
       "      <td>2244</td>\n",
       "    </tr>\n",
       "  </tbody>\n",
       "</table>\n",
       "<p>1000 rows × 9 columns</p>\n",
       "</div>"
      ],
      "text/plain": [
       "                JobTitle  Gender  Age  PerfEval    Education            Dept  \\\n",
       "0       Graphic Designer  Female   18         5      College      Operations   \n",
       "1      Software Engineer    Male   21         5      College      Management   \n",
       "2    Warehouse Associate  Female   19         4          PhD  Administration   \n",
       "3      Software Engineer    Male   20         5      Masters           Sales   \n",
       "4       Graphic Designer    Male   26         5      Masters     Engineering   \n",
       "..                   ...     ...  ...       ...          ...             ...   \n",
       "995  Marketing Associate  Female   61         1  High School  Administration   \n",
       "996       Data Scientist    Male   57         1      Masters           Sales   \n",
       "997    Financial Analyst    Male   48         1  High School      Operations   \n",
       "998    Financial Analyst    Male   65         2  High School  Administration   \n",
       "999    Financial Analyst    Male   60         1          PhD           Sales   \n",
       "\n",
       "     Seniority  BasePay  Bonus  \n",
       "0            2    42363   9938  \n",
       "1            5   108476  11128  \n",
       "2            5    90208   9268  \n",
       "3            4   108080  10154  \n",
       "4            5    99464   9319  \n",
       "..         ...      ...    ...  \n",
       "995          1    62644   3270  \n",
       "996          2   108977   3567  \n",
       "997          1    92347   2724  \n",
       "998          1    97376   2225  \n",
       "999          2   123108   2244  \n",
       "\n",
       "[1000 rows x 9 columns]"
      ]
     },
     "execution_count": 3,
     "metadata": {},
     "output_type": "execute_result"
    }
   ],
   "source": [
    "original_glassdoor_df"
   ]
  },
  {
   "cell_type": "code",
   "execution_count": 4,
   "id": "21c4e097",
   "metadata": {},
   "outputs": [
    {
     "name": "stderr",
     "output_type": "stream",
     "text": [
      "C:\\Users\\jahed\\AppData\\Local\\Temp/ipykernel_11032/2496018196.py:1: SettingWithCopyWarning: \n",
      "A value is trying to be set on a copy of a slice from a DataFrame\n",
      "\n",
      "See the caveats in the documentation: https://pandas.pydata.org/pandas-docs/stable/user_guide/indexing.html#returning-a-view-versus-a-copy\n",
      "  original_glassdoor_df.Gender[original_glassdoor_df.Gender == 'Male'] = 0\n",
      "C:\\Users\\jahed\\AppData\\Local\\Temp/ipykernel_11032/2496018196.py:2: SettingWithCopyWarning: \n",
      "A value is trying to be set on a copy of a slice from a DataFrame\n",
      "\n",
      "See the caveats in the documentation: https://pandas.pydata.org/pandas-docs/stable/user_guide/indexing.html#returning-a-view-versus-a-copy\n",
      "  original_glassdoor_df.Gender[original_glassdoor_df.Gender == 'Female'] = 1\n"
     ]
    }
   ],
   "source": [
    "original_glassdoor_df.Gender[original_glassdoor_df.Gender == 'Male'] = 0\n",
    "original_glassdoor_df.Gender[original_glassdoor_df.Gender == 'Female'] = 1"
   ]
  },
  {
   "cell_type": "code",
   "execution_count": 5,
   "id": "aeb4aca5",
   "metadata": {},
   "outputs": [
    {
     "data": {
      "text/html": [
       "<div>\n",
       "<style scoped>\n",
       "    .dataframe tbody tr th:only-of-type {\n",
       "        vertical-align: middle;\n",
       "    }\n",
       "\n",
       "    .dataframe tbody tr th {\n",
       "        vertical-align: top;\n",
       "    }\n",
       "\n",
       "    .dataframe thead th {\n",
       "        text-align: right;\n",
       "    }\n",
       "</style>\n",
       "<table border=\"1\" class=\"dataframe\">\n",
       "  <thead>\n",
       "    <tr style=\"text-align: right;\">\n",
       "      <th></th>\n",
       "      <th>JobTitle</th>\n",
       "      <th>Gender</th>\n",
       "      <th>Age</th>\n",
       "      <th>PerfEval</th>\n",
       "      <th>Education</th>\n",
       "      <th>Dept</th>\n",
       "      <th>Seniority</th>\n",
       "      <th>BasePay</th>\n",
       "      <th>Bonus</th>\n",
       "    </tr>\n",
       "  </thead>\n",
       "  <tbody>\n",
       "    <tr>\n",
       "      <th>0</th>\n",
       "      <td>Graphic Designer</td>\n",
       "      <td>1</td>\n",
       "      <td>18</td>\n",
       "      <td>5</td>\n",
       "      <td>College</td>\n",
       "      <td>Operations</td>\n",
       "      <td>2</td>\n",
       "      <td>42363</td>\n",
       "      <td>9938</td>\n",
       "    </tr>\n",
       "    <tr>\n",
       "      <th>1</th>\n",
       "      <td>Software Engineer</td>\n",
       "      <td>0</td>\n",
       "      <td>21</td>\n",
       "      <td>5</td>\n",
       "      <td>College</td>\n",
       "      <td>Management</td>\n",
       "      <td>5</td>\n",
       "      <td>108476</td>\n",
       "      <td>11128</td>\n",
       "    </tr>\n",
       "    <tr>\n",
       "      <th>2</th>\n",
       "      <td>Warehouse Associate</td>\n",
       "      <td>1</td>\n",
       "      <td>19</td>\n",
       "      <td>4</td>\n",
       "      <td>PhD</td>\n",
       "      <td>Administration</td>\n",
       "      <td>5</td>\n",
       "      <td>90208</td>\n",
       "      <td>9268</td>\n",
       "    </tr>\n",
       "    <tr>\n",
       "      <th>3</th>\n",
       "      <td>Software Engineer</td>\n",
       "      <td>0</td>\n",
       "      <td>20</td>\n",
       "      <td>5</td>\n",
       "      <td>Masters</td>\n",
       "      <td>Sales</td>\n",
       "      <td>4</td>\n",
       "      <td>108080</td>\n",
       "      <td>10154</td>\n",
       "    </tr>\n",
       "    <tr>\n",
       "      <th>4</th>\n",
       "      <td>Graphic Designer</td>\n",
       "      <td>0</td>\n",
       "      <td>26</td>\n",
       "      <td>5</td>\n",
       "      <td>Masters</td>\n",
       "      <td>Engineering</td>\n",
       "      <td>5</td>\n",
       "      <td>99464</td>\n",
       "      <td>9319</td>\n",
       "    </tr>\n",
       "    <tr>\n",
       "      <th>...</th>\n",
       "      <td>...</td>\n",
       "      <td>...</td>\n",
       "      <td>...</td>\n",
       "      <td>...</td>\n",
       "      <td>...</td>\n",
       "      <td>...</td>\n",
       "      <td>...</td>\n",
       "      <td>...</td>\n",
       "      <td>...</td>\n",
       "    </tr>\n",
       "    <tr>\n",
       "      <th>995</th>\n",
       "      <td>Marketing Associate</td>\n",
       "      <td>1</td>\n",
       "      <td>61</td>\n",
       "      <td>1</td>\n",
       "      <td>High School</td>\n",
       "      <td>Administration</td>\n",
       "      <td>1</td>\n",
       "      <td>62644</td>\n",
       "      <td>3270</td>\n",
       "    </tr>\n",
       "    <tr>\n",
       "      <th>996</th>\n",
       "      <td>Data Scientist</td>\n",
       "      <td>0</td>\n",
       "      <td>57</td>\n",
       "      <td>1</td>\n",
       "      <td>Masters</td>\n",
       "      <td>Sales</td>\n",
       "      <td>2</td>\n",
       "      <td>108977</td>\n",
       "      <td>3567</td>\n",
       "    </tr>\n",
       "    <tr>\n",
       "      <th>997</th>\n",
       "      <td>Financial Analyst</td>\n",
       "      <td>0</td>\n",
       "      <td>48</td>\n",
       "      <td>1</td>\n",
       "      <td>High School</td>\n",
       "      <td>Operations</td>\n",
       "      <td>1</td>\n",
       "      <td>92347</td>\n",
       "      <td>2724</td>\n",
       "    </tr>\n",
       "    <tr>\n",
       "      <th>998</th>\n",
       "      <td>Financial Analyst</td>\n",
       "      <td>0</td>\n",
       "      <td>65</td>\n",
       "      <td>2</td>\n",
       "      <td>High School</td>\n",
       "      <td>Administration</td>\n",
       "      <td>1</td>\n",
       "      <td>97376</td>\n",
       "      <td>2225</td>\n",
       "    </tr>\n",
       "    <tr>\n",
       "      <th>999</th>\n",
       "      <td>Financial Analyst</td>\n",
       "      <td>0</td>\n",
       "      <td>60</td>\n",
       "      <td>1</td>\n",
       "      <td>PhD</td>\n",
       "      <td>Sales</td>\n",
       "      <td>2</td>\n",
       "      <td>123108</td>\n",
       "      <td>2244</td>\n",
       "    </tr>\n",
       "  </tbody>\n",
       "</table>\n",
       "<p>1000 rows × 9 columns</p>\n",
       "</div>"
      ],
      "text/plain": [
       "                JobTitle Gender  Age  PerfEval    Education            Dept  \\\n",
       "0       Graphic Designer      1   18         5      College      Operations   \n",
       "1      Software Engineer      0   21         5      College      Management   \n",
       "2    Warehouse Associate      1   19         4          PhD  Administration   \n",
       "3      Software Engineer      0   20         5      Masters           Sales   \n",
       "4       Graphic Designer      0   26         5      Masters     Engineering   \n",
       "..                   ...    ...  ...       ...          ...             ...   \n",
       "995  Marketing Associate      1   61         1  High School  Administration   \n",
       "996       Data Scientist      0   57         1      Masters           Sales   \n",
       "997    Financial Analyst      0   48         1  High School      Operations   \n",
       "998    Financial Analyst      0   65         2  High School  Administration   \n",
       "999    Financial Analyst      0   60         1          PhD           Sales   \n",
       "\n",
       "     Seniority  BasePay  Bonus  \n",
       "0            2    42363   9938  \n",
       "1            5   108476  11128  \n",
       "2            5    90208   9268  \n",
       "3            4   108080  10154  \n",
       "4            5    99464   9319  \n",
       "..         ...      ...    ...  \n",
       "995          1    62644   3270  \n",
       "996          2   108977   3567  \n",
       "997          1    92347   2724  \n",
       "998          1    97376   2225  \n",
       "999          2   123108   2244  \n",
       "\n",
       "[1000 rows x 9 columns]"
      ]
     },
     "execution_count": 5,
     "metadata": {},
     "output_type": "execute_result"
    }
   ],
   "source": [
    "original_glassdoor_df"
   ]
  },
  {
   "cell_type": "code",
   "execution_count": 6,
   "id": "cfaede52",
   "metadata": {},
   "outputs": [
    {
     "name": "stderr",
     "output_type": "stream",
     "text": [
      "C:\\Users\\jahed\\AppData\\Local\\Temp/ipykernel_11032/2364364921.py:1: SettingWithCopyWarning: \n",
      "A value is trying to be set on a copy of a slice from a DataFrame\n",
      "\n",
      "See the caveats in the documentation: https://pandas.pydata.org/pandas-docs/stable/user_guide/indexing.html#returning-a-view-versus-a-copy\n",
      "  original_glassdoor_df.Education[original_glassdoor_df.Education == 'High School'] = 0\n",
      "C:\\Users\\jahed\\AppData\\Local\\Temp/ipykernel_11032/2364364921.py:2: SettingWithCopyWarning: \n",
      "A value is trying to be set on a copy of a slice from a DataFrame\n",
      "\n",
      "See the caveats in the documentation: https://pandas.pydata.org/pandas-docs/stable/user_guide/indexing.html#returning-a-view-versus-a-copy\n",
      "  original_glassdoor_df.Education[original_glassdoor_df.Education == 'College'] = 1\n",
      "C:\\Users\\jahed\\AppData\\Local\\Temp/ipykernel_11032/2364364921.py:3: SettingWithCopyWarning: \n",
      "A value is trying to be set on a copy of a slice from a DataFrame\n",
      "\n",
      "See the caveats in the documentation: https://pandas.pydata.org/pandas-docs/stable/user_guide/indexing.html#returning-a-view-versus-a-copy\n",
      "  original_glassdoor_df.Education[original_glassdoor_df.Education == 'Masters'] = 2\n",
      "C:\\Users\\jahed\\AppData\\Local\\Temp/ipykernel_11032/2364364921.py:4: SettingWithCopyWarning: \n",
      "A value is trying to be set on a copy of a slice from a DataFrame\n",
      "\n",
      "See the caveats in the documentation: https://pandas.pydata.org/pandas-docs/stable/user_guide/indexing.html#returning-a-view-versus-a-copy\n",
      "  original_glassdoor_df.Education[original_glassdoor_df.Education == 'PhD'] = 3\n"
     ]
    }
   ],
   "source": [
    "original_glassdoor_df.Education[original_glassdoor_df.Education == 'High School'] = 0\n",
    "original_glassdoor_df.Education[original_glassdoor_df.Education == 'College'] = 1\n",
    "original_glassdoor_df.Education[original_glassdoor_df.Education == 'Masters'] = 2\n",
    "original_glassdoor_df.Education[original_glassdoor_df.Education == 'PhD'] = 3"
   ]
  },
  {
   "cell_type": "code",
   "execution_count": 7,
   "id": "54dd2952",
   "metadata": {},
   "outputs": [
    {
     "data": {
      "text/html": [
       "<div>\n",
       "<style scoped>\n",
       "    .dataframe tbody tr th:only-of-type {\n",
       "        vertical-align: middle;\n",
       "    }\n",
       "\n",
       "    .dataframe tbody tr th {\n",
       "        vertical-align: top;\n",
       "    }\n",
       "\n",
       "    .dataframe thead th {\n",
       "        text-align: right;\n",
       "    }\n",
       "</style>\n",
       "<table border=\"1\" class=\"dataframe\">\n",
       "  <thead>\n",
       "    <tr style=\"text-align: right;\">\n",
       "      <th></th>\n",
       "      <th>JobTitle</th>\n",
       "      <th>Gender</th>\n",
       "      <th>Age</th>\n",
       "      <th>PerfEval</th>\n",
       "      <th>Education</th>\n",
       "      <th>Dept</th>\n",
       "      <th>Seniority</th>\n",
       "      <th>BasePay</th>\n",
       "      <th>Bonus</th>\n",
       "    </tr>\n",
       "  </thead>\n",
       "  <tbody>\n",
       "    <tr>\n",
       "      <th>0</th>\n",
       "      <td>Graphic Designer</td>\n",
       "      <td>1</td>\n",
       "      <td>18</td>\n",
       "      <td>5</td>\n",
       "      <td>1</td>\n",
       "      <td>Operations</td>\n",
       "      <td>2</td>\n",
       "      <td>42363</td>\n",
       "      <td>9938</td>\n",
       "    </tr>\n",
       "    <tr>\n",
       "      <th>1</th>\n",
       "      <td>Software Engineer</td>\n",
       "      <td>0</td>\n",
       "      <td>21</td>\n",
       "      <td>5</td>\n",
       "      <td>1</td>\n",
       "      <td>Management</td>\n",
       "      <td>5</td>\n",
       "      <td>108476</td>\n",
       "      <td>11128</td>\n",
       "    </tr>\n",
       "    <tr>\n",
       "      <th>2</th>\n",
       "      <td>Warehouse Associate</td>\n",
       "      <td>1</td>\n",
       "      <td>19</td>\n",
       "      <td>4</td>\n",
       "      <td>3</td>\n",
       "      <td>Administration</td>\n",
       "      <td>5</td>\n",
       "      <td>90208</td>\n",
       "      <td>9268</td>\n",
       "    </tr>\n",
       "    <tr>\n",
       "      <th>3</th>\n",
       "      <td>Software Engineer</td>\n",
       "      <td>0</td>\n",
       "      <td>20</td>\n",
       "      <td>5</td>\n",
       "      <td>2</td>\n",
       "      <td>Sales</td>\n",
       "      <td>4</td>\n",
       "      <td>108080</td>\n",
       "      <td>10154</td>\n",
       "    </tr>\n",
       "    <tr>\n",
       "      <th>4</th>\n",
       "      <td>Graphic Designer</td>\n",
       "      <td>0</td>\n",
       "      <td>26</td>\n",
       "      <td>5</td>\n",
       "      <td>2</td>\n",
       "      <td>Engineering</td>\n",
       "      <td>5</td>\n",
       "      <td>99464</td>\n",
       "      <td>9319</td>\n",
       "    </tr>\n",
       "    <tr>\n",
       "      <th>...</th>\n",
       "      <td>...</td>\n",
       "      <td>...</td>\n",
       "      <td>...</td>\n",
       "      <td>...</td>\n",
       "      <td>...</td>\n",
       "      <td>...</td>\n",
       "      <td>...</td>\n",
       "      <td>...</td>\n",
       "      <td>...</td>\n",
       "    </tr>\n",
       "    <tr>\n",
       "      <th>995</th>\n",
       "      <td>Marketing Associate</td>\n",
       "      <td>1</td>\n",
       "      <td>61</td>\n",
       "      <td>1</td>\n",
       "      <td>0</td>\n",
       "      <td>Administration</td>\n",
       "      <td>1</td>\n",
       "      <td>62644</td>\n",
       "      <td>3270</td>\n",
       "    </tr>\n",
       "    <tr>\n",
       "      <th>996</th>\n",
       "      <td>Data Scientist</td>\n",
       "      <td>0</td>\n",
       "      <td>57</td>\n",
       "      <td>1</td>\n",
       "      <td>2</td>\n",
       "      <td>Sales</td>\n",
       "      <td>2</td>\n",
       "      <td>108977</td>\n",
       "      <td>3567</td>\n",
       "    </tr>\n",
       "    <tr>\n",
       "      <th>997</th>\n",
       "      <td>Financial Analyst</td>\n",
       "      <td>0</td>\n",
       "      <td>48</td>\n",
       "      <td>1</td>\n",
       "      <td>0</td>\n",
       "      <td>Operations</td>\n",
       "      <td>1</td>\n",
       "      <td>92347</td>\n",
       "      <td>2724</td>\n",
       "    </tr>\n",
       "    <tr>\n",
       "      <th>998</th>\n",
       "      <td>Financial Analyst</td>\n",
       "      <td>0</td>\n",
       "      <td>65</td>\n",
       "      <td>2</td>\n",
       "      <td>0</td>\n",
       "      <td>Administration</td>\n",
       "      <td>1</td>\n",
       "      <td>97376</td>\n",
       "      <td>2225</td>\n",
       "    </tr>\n",
       "    <tr>\n",
       "      <th>999</th>\n",
       "      <td>Financial Analyst</td>\n",
       "      <td>0</td>\n",
       "      <td>60</td>\n",
       "      <td>1</td>\n",
       "      <td>3</td>\n",
       "      <td>Sales</td>\n",
       "      <td>2</td>\n",
       "      <td>123108</td>\n",
       "      <td>2244</td>\n",
       "    </tr>\n",
       "  </tbody>\n",
       "</table>\n",
       "<p>1000 rows × 9 columns</p>\n",
       "</div>"
      ],
      "text/plain": [
       "                JobTitle Gender  Age  PerfEval Education            Dept  \\\n",
       "0       Graphic Designer      1   18         5         1      Operations   \n",
       "1      Software Engineer      0   21         5         1      Management   \n",
       "2    Warehouse Associate      1   19         4         3  Administration   \n",
       "3      Software Engineer      0   20         5         2           Sales   \n",
       "4       Graphic Designer      0   26         5         2     Engineering   \n",
       "..                   ...    ...  ...       ...       ...             ...   \n",
       "995  Marketing Associate      1   61         1         0  Administration   \n",
       "996       Data Scientist      0   57         1         2           Sales   \n",
       "997    Financial Analyst      0   48         1         0      Operations   \n",
       "998    Financial Analyst      0   65         2         0  Administration   \n",
       "999    Financial Analyst      0   60         1         3           Sales   \n",
       "\n",
       "     Seniority  BasePay  Bonus  \n",
       "0            2    42363   9938  \n",
       "1            5   108476  11128  \n",
       "2            5    90208   9268  \n",
       "3            4   108080  10154  \n",
       "4            5    99464   9319  \n",
       "..         ...      ...    ...  \n",
       "995          1    62644   3270  \n",
       "996          2   108977   3567  \n",
       "997          1    92347   2724  \n",
       "998          1    97376   2225  \n",
       "999          2   123108   2244  \n",
       "\n",
       "[1000 rows x 9 columns]"
      ]
     },
     "execution_count": 7,
     "metadata": {},
     "output_type": "execute_result"
    }
   ],
   "source": [
    "original_glassdoor_df"
   ]
  },
  {
   "cell_type": "code",
   "execution_count": 8,
   "id": "a46c3141",
   "metadata": {},
   "outputs": [
    {
     "name": "stderr",
     "output_type": "stream",
     "text": [
      "C:\\Users\\jahed\\AppData\\Local\\Temp/ipykernel_11032/3172788235.py:1: SettingWithCopyWarning: \n",
      "A value is trying to be set on a copy of a slice from a DataFrame\n",
      "\n",
      "See the caveats in the documentation: https://pandas.pydata.org/pandas-docs/stable/user_guide/indexing.html#returning-a-view-versus-a-copy\n",
      "  original_glassdoor_df.Dept[original_glassdoor_df.Dept == 'Sales'] = 0\n",
      "C:\\Users\\jahed\\AppData\\Local\\Temp/ipykernel_11032/3172788235.py:2: SettingWithCopyWarning: \n",
      "A value is trying to be set on a copy of a slice from a DataFrame\n",
      "\n",
      "See the caveats in the documentation: https://pandas.pydata.org/pandas-docs/stable/user_guide/indexing.html#returning-a-view-versus-a-copy\n",
      "  original_glassdoor_df.Dept[original_glassdoor_df.Dept == 'Operations'] = 1\n",
      "C:\\Users\\jahed\\AppData\\Local\\Temp/ipykernel_11032/3172788235.py:3: SettingWithCopyWarning: \n",
      "A value is trying to be set on a copy of a slice from a DataFrame\n",
      "\n",
      "See the caveats in the documentation: https://pandas.pydata.org/pandas-docs/stable/user_guide/indexing.html#returning-a-view-versus-a-copy\n",
      "  original_glassdoor_df.Dept[original_glassdoor_df.Dept == 'Administration'] = 2\n",
      "C:\\Users\\jahed\\AppData\\Local\\Temp/ipykernel_11032/3172788235.py:4: SettingWithCopyWarning: \n",
      "A value is trying to be set on a copy of a slice from a DataFrame\n",
      "\n",
      "See the caveats in the documentation: https://pandas.pydata.org/pandas-docs/stable/user_guide/indexing.html#returning-a-view-versus-a-copy\n",
      "  original_glassdoor_df.Dept[original_glassdoor_df.Dept == 'Management'] = 3\n",
      "C:\\Users\\jahed\\AppData\\Local\\Temp/ipykernel_11032/3172788235.py:5: SettingWithCopyWarning: \n",
      "A value is trying to be set on a copy of a slice from a DataFrame\n",
      "\n",
      "See the caveats in the documentation: https://pandas.pydata.org/pandas-docs/stable/user_guide/indexing.html#returning-a-view-versus-a-copy\n",
      "  original_glassdoor_df.Dept[original_glassdoor_df.Dept == 'Engineering'] = 4\n"
     ]
    }
   ],
   "source": [
    "original_glassdoor_df.Dept[original_glassdoor_df.Dept == 'Sales'] = 0\n",
    "original_glassdoor_df.Dept[original_glassdoor_df.Dept == 'Operations'] = 1\n",
    "original_glassdoor_df.Dept[original_glassdoor_df.Dept == 'Administration'] = 2\n",
    "original_glassdoor_df.Dept[original_glassdoor_df.Dept == 'Management'] = 3\n",
    "original_glassdoor_df.Dept[original_glassdoor_df.Dept == 'Engineering'] = 4"
   ]
  },
  {
   "cell_type": "code",
   "execution_count": 9,
   "id": "81f996ef",
   "metadata": {},
   "outputs": [
    {
     "data": {
      "text/html": [
       "<div>\n",
       "<style scoped>\n",
       "    .dataframe tbody tr th:only-of-type {\n",
       "        vertical-align: middle;\n",
       "    }\n",
       "\n",
       "    .dataframe tbody tr th {\n",
       "        vertical-align: top;\n",
       "    }\n",
       "\n",
       "    .dataframe thead th {\n",
       "        text-align: right;\n",
       "    }\n",
       "</style>\n",
       "<table border=\"1\" class=\"dataframe\">\n",
       "  <thead>\n",
       "    <tr style=\"text-align: right;\">\n",
       "      <th></th>\n",
       "      <th>JobTitle</th>\n",
       "      <th>Gender</th>\n",
       "      <th>Age</th>\n",
       "      <th>PerfEval</th>\n",
       "      <th>Education</th>\n",
       "      <th>Dept</th>\n",
       "      <th>Seniority</th>\n",
       "      <th>BasePay</th>\n",
       "      <th>Bonus</th>\n",
       "    </tr>\n",
       "  </thead>\n",
       "  <tbody>\n",
       "    <tr>\n",
       "      <th>0</th>\n",
       "      <td>Graphic Designer</td>\n",
       "      <td>1</td>\n",
       "      <td>18</td>\n",
       "      <td>5</td>\n",
       "      <td>1</td>\n",
       "      <td>1</td>\n",
       "      <td>2</td>\n",
       "      <td>42363</td>\n",
       "      <td>9938</td>\n",
       "    </tr>\n",
       "    <tr>\n",
       "      <th>1</th>\n",
       "      <td>Software Engineer</td>\n",
       "      <td>0</td>\n",
       "      <td>21</td>\n",
       "      <td>5</td>\n",
       "      <td>1</td>\n",
       "      <td>3</td>\n",
       "      <td>5</td>\n",
       "      <td>108476</td>\n",
       "      <td>11128</td>\n",
       "    </tr>\n",
       "    <tr>\n",
       "      <th>2</th>\n",
       "      <td>Warehouse Associate</td>\n",
       "      <td>1</td>\n",
       "      <td>19</td>\n",
       "      <td>4</td>\n",
       "      <td>3</td>\n",
       "      <td>2</td>\n",
       "      <td>5</td>\n",
       "      <td>90208</td>\n",
       "      <td>9268</td>\n",
       "    </tr>\n",
       "    <tr>\n",
       "      <th>3</th>\n",
       "      <td>Software Engineer</td>\n",
       "      <td>0</td>\n",
       "      <td>20</td>\n",
       "      <td>5</td>\n",
       "      <td>2</td>\n",
       "      <td>0</td>\n",
       "      <td>4</td>\n",
       "      <td>108080</td>\n",
       "      <td>10154</td>\n",
       "    </tr>\n",
       "    <tr>\n",
       "      <th>4</th>\n",
       "      <td>Graphic Designer</td>\n",
       "      <td>0</td>\n",
       "      <td>26</td>\n",
       "      <td>5</td>\n",
       "      <td>2</td>\n",
       "      <td>4</td>\n",
       "      <td>5</td>\n",
       "      <td>99464</td>\n",
       "      <td>9319</td>\n",
       "    </tr>\n",
       "    <tr>\n",
       "      <th>...</th>\n",
       "      <td>...</td>\n",
       "      <td>...</td>\n",
       "      <td>...</td>\n",
       "      <td>...</td>\n",
       "      <td>...</td>\n",
       "      <td>...</td>\n",
       "      <td>...</td>\n",
       "      <td>...</td>\n",
       "      <td>...</td>\n",
       "    </tr>\n",
       "    <tr>\n",
       "      <th>995</th>\n",
       "      <td>Marketing Associate</td>\n",
       "      <td>1</td>\n",
       "      <td>61</td>\n",
       "      <td>1</td>\n",
       "      <td>0</td>\n",
       "      <td>2</td>\n",
       "      <td>1</td>\n",
       "      <td>62644</td>\n",
       "      <td>3270</td>\n",
       "    </tr>\n",
       "    <tr>\n",
       "      <th>996</th>\n",
       "      <td>Data Scientist</td>\n",
       "      <td>0</td>\n",
       "      <td>57</td>\n",
       "      <td>1</td>\n",
       "      <td>2</td>\n",
       "      <td>0</td>\n",
       "      <td>2</td>\n",
       "      <td>108977</td>\n",
       "      <td>3567</td>\n",
       "    </tr>\n",
       "    <tr>\n",
       "      <th>997</th>\n",
       "      <td>Financial Analyst</td>\n",
       "      <td>0</td>\n",
       "      <td>48</td>\n",
       "      <td>1</td>\n",
       "      <td>0</td>\n",
       "      <td>1</td>\n",
       "      <td>1</td>\n",
       "      <td>92347</td>\n",
       "      <td>2724</td>\n",
       "    </tr>\n",
       "    <tr>\n",
       "      <th>998</th>\n",
       "      <td>Financial Analyst</td>\n",
       "      <td>0</td>\n",
       "      <td>65</td>\n",
       "      <td>2</td>\n",
       "      <td>0</td>\n",
       "      <td>2</td>\n",
       "      <td>1</td>\n",
       "      <td>97376</td>\n",
       "      <td>2225</td>\n",
       "    </tr>\n",
       "    <tr>\n",
       "      <th>999</th>\n",
       "      <td>Financial Analyst</td>\n",
       "      <td>0</td>\n",
       "      <td>60</td>\n",
       "      <td>1</td>\n",
       "      <td>3</td>\n",
       "      <td>0</td>\n",
       "      <td>2</td>\n",
       "      <td>123108</td>\n",
       "      <td>2244</td>\n",
       "    </tr>\n",
       "  </tbody>\n",
       "</table>\n",
       "<p>1000 rows × 9 columns</p>\n",
       "</div>"
      ],
      "text/plain": [
       "                JobTitle Gender  Age  PerfEval Education Dept  Seniority  \\\n",
       "0       Graphic Designer      1   18         5         1    1          2   \n",
       "1      Software Engineer      0   21         5         1    3          5   \n",
       "2    Warehouse Associate      1   19         4         3    2          5   \n",
       "3      Software Engineer      0   20         5         2    0          4   \n",
       "4       Graphic Designer      0   26         5         2    4          5   \n",
       "..                   ...    ...  ...       ...       ...  ...        ...   \n",
       "995  Marketing Associate      1   61         1         0    2          1   \n",
       "996       Data Scientist      0   57         1         2    0          2   \n",
       "997    Financial Analyst      0   48         1         0    1          1   \n",
       "998    Financial Analyst      0   65         2         0    2          1   \n",
       "999    Financial Analyst      0   60         1         3    0          2   \n",
       "\n",
       "     BasePay  Bonus  \n",
       "0      42363   9938  \n",
       "1     108476  11128  \n",
       "2      90208   9268  \n",
       "3     108080  10154  \n",
       "4      99464   9319  \n",
       "..       ...    ...  \n",
       "995    62644   3270  \n",
       "996   108977   3567  \n",
       "997    92347   2724  \n",
       "998    97376   2225  \n",
       "999   123108   2244  \n",
       "\n",
       "[1000 rows x 9 columns]"
      ]
     },
     "execution_count": 9,
     "metadata": {},
     "output_type": "execute_result"
    }
   ],
   "source": [
    "original_glassdoor_df"
   ]
  },
  {
   "cell_type": "code",
   "execution_count": 10,
   "id": "f921ffc1",
   "metadata": {},
   "outputs": [],
   "source": [
    "glassdoor_df = original_glassdoor_df.loc[:, ['Gender', 'Age', 'Education', 'Dept', 'Seniority', 'BasePay']]"
   ]
  },
  {
   "cell_type": "code",
   "execution_count": 11,
   "id": "d61d9153",
   "metadata": {},
   "outputs": [
    {
     "data": {
      "text/html": [
       "<div>\n",
       "<style scoped>\n",
       "    .dataframe tbody tr th:only-of-type {\n",
       "        vertical-align: middle;\n",
       "    }\n",
       "\n",
       "    .dataframe tbody tr th {\n",
       "        vertical-align: top;\n",
       "    }\n",
       "\n",
       "    .dataframe thead th {\n",
       "        text-align: right;\n",
       "    }\n",
       "</style>\n",
       "<table border=\"1\" class=\"dataframe\">\n",
       "  <thead>\n",
       "    <tr style=\"text-align: right;\">\n",
       "      <th></th>\n",
       "      <th>Gender</th>\n",
       "      <th>Age</th>\n",
       "      <th>Education</th>\n",
       "      <th>Dept</th>\n",
       "      <th>Seniority</th>\n",
       "      <th>BasePay</th>\n",
       "    </tr>\n",
       "  </thead>\n",
       "  <tbody>\n",
       "    <tr>\n",
       "      <th>0</th>\n",
       "      <td>1</td>\n",
       "      <td>18</td>\n",
       "      <td>1</td>\n",
       "      <td>1</td>\n",
       "      <td>2</td>\n",
       "      <td>42363</td>\n",
       "    </tr>\n",
       "    <tr>\n",
       "      <th>1</th>\n",
       "      <td>0</td>\n",
       "      <td>21</td>\n",
       "      <td>1</td>\n",
       "      <td>3</td>\n",
       "      <td>5</td>\n",
       "      <td>108476</td>\n",
       "    </tr>\n",
       "    <tr>\n",
       "      <th>2</th>\n",
       "      <td>1</td>\n",
       "      <td>19</td>\n",
       "      <td>3</td>\n",
       "      <td>2</td>\n",
       "      <td>5</td>\n",
       "      <td>90208</td>\n",
       "    </tr>\n",
       "    <tr>\n",
       "      <th>3</th>\n",
       "      <td>0</td>\n",
       "      <td>20</td>\n",
       "      <td>2</td>\n",
       "      <td>0</td>\n",
       "      <td>4</td>\n",
       "      <td>108080</td>\n",
       "    </tr>\n",
       "    <tr>\n",
       "      <th>4</th>\n",
       "      <td>0</td>\n",
       "      <td>26</td>\n",
       "      <td>2</td>\n",
       "      <td>4</td>\n",
       "      <td>5</td>\n",
       "      <td>99464</td>\n",
       "    </tr>\n",
       "    <tr>\n",
       "      <th>...</th>\n",
       "      <td>...</td>\n",
       "      <td>...</td>\n",
       "      <td>...</td>\n",
       "      <td>...</td>\n",
       "      <td>...</td>\n",
       "      <td>...</td>\n",
       "    </tr>\n",
       "    <tr>\n",
       "      <th>995</th>\n",
       "      <td>1</td>\n",
       "      <td>61</td>\n",
       "      <td>0</td>\n",
       "      <td>2</td>\n",
       "      <td>1</td>\n",
       "      <td>62644</td>\n",
       "    </tr>\n",
       "    <tr>\n",
       "      <th>996</th>\n",
       "      <td>0</td>\n",
       "      <td>57</td>\n",
       "      <td>2</td>\n",
       "      <td>0</td>\n",
       "      <td>2</td>\n",
       "      <td>108977</td>\n",
       "    </tr>\n",
       "    <tr>\n",
       "      <th>997</th>\n",
       "      <td>0</td>\n",
       "      <td>48</td>\n",
       "      <td>0</td>\n",
       "      <td>1</td>\n",
       "      <td>1</td>\n",
       "      <td>92347</td>\n",
       "    </tr>\n",
       "    <tr>\n",
       "      <th>998</th>\n",
       "      <td>0</td>\n",
       "      <td>65</td>\n",
       "      <td>0</td>\n",
       "      <td>2</td>\n",
       "      <td>1</td>\n",
       "      <td>97376</td>\n",
       "    </tr>\n",
       "    <tr>\n",
       "      <th>999</th>\n",
       "      <td>0</td>\n",
       "      <td>60</td>\n",
       "      <td>3</td>\n",
       "      <td>0</td>\n",
       "      <td>2</td>\n",
       "      <td>123108</td>\n",
       "    </tr>\n",
       "  </tbody>\n",
       "</table>\n",
       "<p>1000 rows × 6 columns</p>\n",
       "</div>"
      ],
      "text/plain": [
       "    Gender  Age Education Dept  Seniority  BasePay\n",
       "0        1   18         1    1          2    42363\n",
       "1        0   21         1    3          5   108476\n",
       "2        1   19         3    2          5    90208\n",
       "3        0   20         2    0          4   108080\n",
       "4        0   26         2    4          5    99464\n",
       "..     ...  ...       ...  ...        ...      ...\n",
       "995      1   61         0    2          1    62644\n",
       "996      0   57         2    0          2   108977\n",
       "997      0   48         0    1          1    92347\n",
       "998      0   65         0    2          1    97376\n",
       "999      0   60         3    0          2   123108\n",
       "\n",
       "[1000 rows x 6 columns]"
      ]
     },
     "execution_count": 11,
     "metadata": {},
     "output_type": "execute_result"
    }
   ],
   "source": [
    "glassdoor_df"
   ]
  },
  {
   "cell_type": "markdown",
   "id": "c66393e5",
   "metadata": {},
   "source": [
    "## Histograms for the 6 variables"
   ]
  },
  {
   "cell_type": "markdown",
   "id": "8ace2b6c",
   "metadata": {},
   "source": [
    "### Gender Histogram"
   ]
  },
  {
   "cell_type": "code",
   "execution_count": 12,
   "id": "77361018",
   "metadata": {},
   "outputs": [
    {
     "data": {
      "image/png": "[encoded data removed]",
      "text/plain": [
       "<Figure size 432x288 with 1 Axes>"
      ]
     },
     "metadata": {
      "needs_background": "light"
     },
     "output_type": "display_data"
    }
   ],
   "source": [
    "gender_hist = thinkstats2.Hist(glassdoor_df.Gender)\n",
    "thinkplot.Hist(gender_hist)\n",
    "thinkplot.Config(xlabel='Gender', ylabel='Count', xticks=np.arange(0, 2))"
   ]
  },
  {
   "cell_type": "code",
   "execution_count": 13,
   "id": "992a4e32",
   "metadata": {},
   "outputs": [
    {
     "data": {
      "text/plain": [
       "count     1000\n",
       "unique       2\n",
       "top          0\n",
       "freq       532\n",
       "Name: Gender, dtype: int64"
      ]
     },
     "execution_count": 13,
     "metadata": {},
     "output_type": "execute_result"
    }
   ],
   "source": [
    "glassdoor_df['Gender'].describe()"
   ]
  },
  {
   "cell_type": "code",
   "execution_count": 14,
   "id": "daa1325d",
   "metadata": {},
   "outputs": [
    {
     "data": {
      "text/plain": [
       "0    0\n",
       "dtype: object"
      ]
     },
     "execution_count": 14,
     "metadata": {},
     "output_type": "execute_result"
    }
   ],
   "source": [
    "glassdoor_df['Gender'].mode()"
   ]
  },
  {
   "cell_type": "code",
   "execution_count": 15,
   "id": "6085beda",
   "metadata": {},
   "outputs": [
    {
     "data": {
      "text/plain": [
       "0.12845571598007238"
      ]
     },
     "execution_count": 15,
     "metadata": {},
     "output_type": "execute_result"
    }
   ],
   "source": [
    "glassdoor_df['Gender'].skew()"
   ]
  },
  {
   "cell_type": "code",
   "execution_count": 16,
   "id": "22fcfb69",
   "metadata": {},
   "outputs": [
    {
     "data": {
      "text/plain": [
       "0    532\n",
       "1    468\n",
       "Name: Gender, dtype: int64"
      ]
     },
     "execution_count": 16,
     "metadata": {},
     "output_type": "execute_result"
    }
   ],
   "source": [
    "glassdoor_df['Gender'].value_counts()"
   ]
  },
  {
   "cell_type": "markdown",
   "id": "37488c1f",
   "metadata": {},
   "source": [
    "### Age Histogram"
   ]
  },
  {
   "cell_type": "code",
   "execution_count": 17,
   "id": "a03eb2d9",
   "metadata": {},
   "outputs": [
    {
     "data": {
      "image/png": "[encoded data removed]",
      "text/plain": [
       "<Figure size 432x288 with 1 Axes>"
      ]
     },
     "metadata": {
      "needs_background": "light"
     },
     "output_type": "display_data"
    }
   ],
   "source": [
    "age_hist = thinkstats2.Hist(glassdoor_df.Age)\n",
    "thinkplot.Hist(age_hist)\n",
    "thinkplot.Config(xlabel='Age(years)', ylabel='Count')"
   ]
  },
  {
   "cell_type": "code",
   "execution_count": 18,
   "id": "e19384b2",
   "metadata": {},
   "outputs": [
    {
     "data": {
      "text/plain": [
       "count    1000.000000\n",
       "mean       41.393000\n",
       "std        14.294856\n",
       "min        18.000000\n",
       "25%        29.000000\n",
       "50%        41.000000\n",
       "75%        54.250000\n",
       "max        65.000000\n",
       "Name: Age, dtype: float64"
      ]
     },
     "execution_count": 18,
     "metadata": {},
     "output_type": "execute_result"
    }
   ],
   "source": [
    "glassdoor_df['Age'].describe()"
   ]
  },
  {
   "cell_type": "code",
   "execution_count": 19,
   "id": "9dae79ac",
   "metadata": {},
   "outputs": [
    {
     "data": {
      "text/plain": [
       "0    18\n",
       "dtype: int64"
      ]
     },
     "execution_count": 19,
     "metadata": {},
     "output_type": "execute_result"
    }
   ],
   "source": [
    "glassdoor_df['Age'].mode()"
   ]
  },
  {
   "cell_type": "code",
   "execution_count": 20,
   "id": "272df92f",
   "metadata": {},
   "outputs": [
    {
     "data": {
      "text/plain": [
       "-0.0038646671280158015"
      ]
     },
     "execution_count": 20,
     "metadata": {},
     "output_type": "execute_result"
    }
   ],
   "source": [
    "glassdoor_df['Age'].skew()"
   ]
  },
  {
   "cell_type": "markdown",
   "id": "298e57ba",
   "metadata": {},
   "source": [
    "### Education Histogram"
   ]
  },
  {
   "cell_type": "code",
   "execution_count": 21,
   "id": "c5bd1cf9",
   "metadata": {},
   "outputs": [
    {
     "data": {
      "image/png": "[encoded data removed]",
      "text/plain": [
       "<Figure size 432x288 with 1 Axes>"
      ]
     },
     "metadata": {
      "needs_background": "light"
     },
     "output_type": "display_data"
    }
   ],
   "source": [
    "education_hist = thinkstats2.Hist(glassdoor_df.Education)\n",
    "thinkplot.Hist(education_hist)\n",
    "thinkplot.Config(xlabel='Education', ylabel='Count', xticks=np.arange(0, 4))"
   ]
  },
  {
   "cell_type": "code",
   "execution_count": 22,
   "id": "bb867a1d",
   "metadata": {},
   "outputs": [
    {
     "data": {
      "text/plain": [
       "count     1000\n",
       "unique       4\n",
       "top          0\n",
       "freq       265\n",
       "Name: Education, dtype: int64"
      ]
     },
     "execution_count": 22,
     "metadata": {},
     "output_type": "execute_result"
    }
   ],
   "source": [
    "glassdoor_df['Education'].describe()"
   ]
  },
  {
   "cell_type": "code",
   "execution_count": 23,
   "id": "8a6cd995",
   "metadata": {},
   "outputs": [
    {
     "data": {
      "text/plain": [
       "0    0\n",
       "dtype: object"
      ]
     },
     "execution_count": 23,
     "metadata": {},
     "output_type": "execute_result"
    }
   ],
   "source": [
    "glassdoor_df['Education'].mode()"
   ]
  },
  {
   "cell_type": "code",
   "execution_count": 24,
   "id": "6f015339",
   "metadata": {},
   "outputs": [
    {
     "data": {
      "text/plain": [
       "0.024950274024523964"
      ]
     },
     "execution_count": 24,
     "metadata": {},
     "output_type": "execute_result"
    }
   ],
   "source": [
    "glassdoor_df['Education'].skew()"
   ]
  },
  {
   "cell_type": "code",
   "execution_count": 25,
   "id": "4a2eb896",
   "metadata": {},
   "outputs": [
    {
     "data": {
      "text/plain": [
       "0    265\n",
       "2    256\n",
       "1    241\n",
       "3    238\n",
       "Name: Education, dtype: int64"
      ]
     },
     "execution_count": 25,
     "metadata": {},
     "output_type": "execute_result"
    }
   ],
   "source": [
    "glassdoor_df['Education'].value_counts()"
   ]
  },
  {
   "cell_type": "markdown",
   "id": "c4eafb21",
   "metadata": {},
   "source": [
    "### Department Histogram"
   ]
  },
  {
   "cell_type": "code",
   "execution_count": 26,
   "id": "02fe6ce4",
   "metadata": {},
   "outputs": [
    {
     "data": {
      "image/png": "[encoded data removed]",
      "text/plain": [
       "<Figure size 432x288 with 1 Axes>"
      ]
     },
     "metadata": {
      "needs_background": "light"
     },
     "output_type": "display_data"
    }
   ],
   "source": [
    "dept_hist = thinkstats2.Hist(glassdoor_df.Dept)\n",
    "thinkplot.Hist(dept_hist)\n",
    "thinkplot.Config(xlabel='Dept', ylabel='Count')"
   ]
  },
  {
   "cell_type": "code",
   "execution_count": 27,
   "id": "cf76667f",
   "metadata": {},
   "outputs": [
    {
     "data": {
      "text/plain": [
       "count     1000\n",
       "unique       5\n",
       "top          1\n",
       "freq       210\n",
       "Name: Dept, dtype: int64"
      ]
     },
     "execution_count": 27,
     "metadata": {},
     "output_type": "execute_result"
    }
   ],
   "source": [
    "glassdoor_df['Dept'].describe()"
   ]
  },
  {
   "cell_type": "code",
   "execution_count": 28,
   "id": "9a56367e",
   "metadata": {},
   "outputs": [
    {
     "data": {
      "text/plain": [
       "0    1\n",
       "dtype: object"
      ]
     },
     "execution_count": 28,
     "metadata": {},
     "output_type": "execute_result"
    }
   ],
   "source": [
    "glassdoor_df['Dept'].mode()"
   ]
  },
  {
   "cell_type": "code",
   "execution_count": 29,
   "id": "2b39bbeb",
   "metadata": {},
   "outputs": [
    {
     "data": {
      "text/plain": [
       "0.042544792991636354"
      ]
     },
     "execution_count": 29,
     "metadata": {},
     "output_type": "execute_result"
    }
   ],
   "source": [
    "glassdoor_df['Dept'].skew()"
   ]
  },
  {
   "cell_type": "code",
   "execution_count": 30,
   "id": "4da659ea",
   "metadata": {},
   "outputs": [
    {
     "data": {
      "text/plain": [
       "1    210\n",
       "0    207\n",
       "3    198\n",
       "2    193\n",
       "4    192\n",
       "Name: Dept, dtype: int64"
      ]
     },
     "execution_count": 30,
     "metadata": {},
     "output_type": "execute_result"
    }
   ],
   "source": [
    "glassdoor_df['Dept'].value_counts()"
   ]
  },
  {
   "cell_type": "markdown",
   "id": "b3ea9acd",
   "metadata": {},
   "source": [
    "### Seniority Histogram"
   ]
  },
  {
   "cell_type": "code",
   "execution_count": 31,
   "id": "26368987",
   "metadata": {
    "scrolled": true
   },
   "outputs": [
    {
     "data": {
      "image/png": "[encoded data removed]",
      "text/plain": [
       "<Figure size 432x288 with 1 Axes>"
      ]
     },
     "metadata": {
      "needs_background": "light"
     },
     "output_type": "display_data"
    }
   ],
   "source": [
    "seniority_hist = thinkstats2.Hist(glassdoor_df.Seniority)\n",
    "thinkplot.Hist(seniority_hist)\n",
    "thinkplot.Config(xlabel='Seniority(years)', ylabel='Count')"
   ]
  },
  {
   "cell_type": "code",
   "execution_count": 32,
   "id": "b76b390d",
   "metadata": {
    "scrolled": true
   },
   "outputs": [
    {
     "data": {
      "text/plain": [
       "count    1000.000000\n",
       "mean        2.971000\n",
       "std         1.395029\n",
       "min         1.000000\n",
       "25%         2.000000\n",
       "50%         3.000000\n",
       "75%         4.000000\n",
       "max         5.000000\n",
       "Name: Seniority, dtype: float64"
      ]
     },
     "execution_count": 32,
     "metadata": {},
     "output_type": "execute_result"
    }
   ],
   "source": [
    "glassdoor_df['Seniority'].describe()"
   ]
  },
  {
   "cell_type": "code",
   "execution_count": 33,
   "id": "703226e8",
   "metadata": {},
   "outputs": [
    {
     "data": {
      "text/plain": [
       "0    3\n",
       "dtype: int64"
      ]
     },
     "execution_count": 33,
     "metadata": {},
     "output_type": "execute_result"
    }
   ],
   "source": [
    "glassdoor_df['Seniority'].mode()"
   ]
  },
  {
   "cell_type": "code",
   "execution_count": 34,
   "id": "0c547bcb",
   "metadata": {},
   "outputs": [
    {
     "data": {
      "text/plain": [
       "0.047350886612282636"
      ]
     },
     "execution_count": 34,
     "metadata": {},
     "output_type": "execute_result"
    }
   ],
   "source": [
    "glassdoor_df['Seniority'].skew()"
   ]
  },
  {
   "cell_type": "code",
   "execution_count": 35,
   "id": "3adaee1c",
   "metadata": {},
   "outputs": [
    {
     "data": {
      "text/plain": [
       "1    210\n",
       "0    207\n",
       "3    198\n",
       "2    193\n",
       "4    192\n",
       "Name: Dept, dtype: int64"
      ]
     },
     "execution_count": 35,
     "metadata": {},
     "output_type": "execute_result"
    }
   ],
   "source": [
    "glassdoor_df['Dept'].value_counts()"
   ]
  },
  {
   "cell_type": "markdown",
   "id": "0340b7ba",
   "metadata": {},
   "source": [
    "### BasePay Histogram"
   ]
  },
  {
   "cell_type": "code",
   "execution_count": 36,
   "id": "e334951f",
   "metadata": {},
   "outputs": [
    {
     "data": {
      "image/png": "[encoded data removed]",
      "text/plain": [
       "<Figure size 432x288 with 1 Axes>"
      ]
     },
     "metadata": {
      "needs_background": "light"
     },
     "output_type": "display_data"
    }
   ],
   "source": [
    "basepay_hist = thinkstats2.Hist(glassdoor_df.BasePay)\n",
    "thinkplot.Hist(basepay_hist, width=500)\n",
    "thinkplot.Config(xlabel='BasePay(USD)', ylabel='Count')"
   ]
  },
  {
   "cell_type": "code",
   "execution_count": 37,
   "id": "e01f5eb5",
   "metadata": {},
   "outputs": [
    {
     "data": {
      "text/plain": [
       "(array([ 16.,  14.,  29.,  54.,  73.,  78.,  98., 120., 101., 112.,  91.,\n",
       "         69.,  56.,  40.,  18.,  11.,  14.,   3.,   1.,   2.]),\n",
       " array([ 34208. ,  41483.9,  48759.8,  56035.7,  63311.6,  70587.5,\n",
       "         77863.4,  85139.3,  92415.2,  99691.1, 106967. , 114242.9,\n",
       "        121518.8, 128794.7, 136070.6, 143346.5, 150622.4, 157898.3,\n",
       "        165174.2, 172450.1, 179726. ]),\n",
       " <BarContainer object of 20 artists>)"
      ]
     },
     "execution_count": 37,
     "metadata": {},
     "output_type": "execute_result"
    },
    {
     "data": {
      "image/png": "[encoded data removed]",
      "text/plain": [
       "<Figure size 432x288 with 1 Axes>"
      ]
     },
     "metadata": {
      "needs_background": "light"
     },
     "output_type": "display_data"
    }
   ],
   "source": [
    "# thinkplot.Hist is not showing the histogram correctly, so using pyplot hist for BasePay\n",
    "plt.hist(glassdoor_df['BasePay'], bins=20, edgecolor='black')"
   ]
  },
  {
   "cell_type": "code",
   "execution_count": 38,
   "id": "42221755",
   "metadata": {},
   "outputs": [
    {
     "data": {
      "text/plain": [
       "count      1000.000000\n",
       "mean      94472.653000\n",
       "std       25337.493272\n",
       "min       34208.000000\n",
       "25%       76850.250000\n",
       "50%       93327.500000\n",
       "75%      111558.000000\n",
       "max      179726.000000\n",
       "Name: BasePay, dtype: float64"
      ]
     },
     "execution_count": 38,
     "metadata": {},
     "output_type": "execute_result"
    }
   ],
   "source": [
    "glassdoor_df['BasePay'].describe()"
   ]
  },
  {
   "cell_type": "code",
   "execution_count": 39,
   "id": "66926c19",
   "metadata": {},
   "outputs": [
    {
     "data": {
      "text/plain": [
       "0     62753\n",
       "1     77584\n",
       "2     77793\n",
       "3     95795\n",
       "4     97376\n",
       "5     99543\n",
       "6    100183\n",
       "7    125770\n",
       "dtype: int64"
      ]
     },
     "execution_count": 39,
     "metadata": {},
     "output_type": "execute_result"
    }
   ],
   "source": [
    "glassdoor_df['BasePay'].mode()"
   ]
  },
  {
   "cell_type": "code",
   "execution_count": 40,
   "id": "0f736f2f",
   "metadata": {},
   "outputs": [
    {
     "data": {
      "text/plain": [
       "0.16647199939504242"
      ]
     },
     "execution_count": 40,
     "metadata": {},
     "output_type": "execute_result"
    }
   ],
   "source": [
    "glassdoor_df['BasePay'].skew()"
   ]
  },
  {
   "cell_type": "markdown",
   "id": "56ebc1cf",
   "metadata": {},
   "source": [
    "## PMF"
   ]
  },
  {
   "cell_type": "code",
   "execution_count": 41,
   "id": "20478f1f",
   "metadata": {},
   "outputs": [],
   "source": [
    "glassdoor_df_male = glassdoor_df[glassdoor_df.Gender == 0]\n",
    "glassdoor_df_female = glassdoor_df[glassdoor_df.Gender == 1]"
   ]
  },
  {
   "cell_type": "code",
   "execution_count": 42,
   "id": "6ede88bf",
   "metadata": {},
   "outputs": [
    {
     "data": {
      "text/html": [
       "<div>\n",
       "<style scoped>\n",
       "    .dataframe tbody tr th:only-of-type {\n",
       "        vertical-align: middle;\n",
       "    }\n",
       "\n",
       "    .dataframe tbody tr th {\n",
       "        vertical-align: top;\n",
       "    }\n",
       "\n",
       "    .dataframe thead th {\n",
       "        text-align: right;\n",
       "    }\n",
       "</style>\n",
       "<table border=\"1\" class=\"dataframe\">\n",
       "  <thead>\n",
       "    <tr style=\"text-align: right;\">\n",
       "      <th></th>\n",
       "      <th>Gender</th>\n",
       "      <th>Age</th>\n",
       "      <th>Education</th>\n",
       "      <th>Dept</th>\n",
       "      <th>Seniority</th>\n",
       "      <th>BasePay</th>\n",
       "    </tr>\n",
       "  </thead>\n",
       "  <tbody>\n",
       "    <tr>\n",
       "      <th>1</th>\n",
       "      <td>0</td>\n",
       "      <td>21</td>\n",
       "      <td>1</td>\n",
       "      <td>3</td>\n",
       "      <td>5</td>\n",
       "      <td>108476</td>\n",
       "    </tr>\n",
       "    <tr>\n",
       "      <th>3</th>\n",
       "      <td>0</td>\n",
       "      <td>20</td>\n",
       "      <td>2</td>\n",
       "      <td>0</td>\n",
       "      <td>4</td>\n",
       "      <td>108080</td>\n",
       "    </tr>\n",
       "    <tr>\n",
       "      <th>4</th>\n",
       "      <td>0</td>\n",
       "      <td>26</td>\n",
       "      <td>2</td>\n",
       "      <td>4</td>\n",
       "      <td>5</td>\n",
       "      <td>99464</td>\n",
       "    </tr>\n",
       "    <tr>\n",
       "      <th>7</th>\n",
       "      <td>0</td>\n",
       "      <td>18</td>\n",
       "      <td>3</td>\n",
       "      <td>4</td>\n",
       "      <td>5</td>\n",
       "      <td>97523</td>\n",
       "    </tr>\n",
       "    <tr>\n",
       "      <th>10</th>\n",
       "      <td>0</td>\n",
       "      <td>24</td>\n",
       "      <td>3</td>\n",
       "      <td>4</td>\n",
       "      <td>5</td>\n",
       "      <td>102261</td>\n",
       "    </tr>\n",
       "    <tr>\n",
       "      <th>...</th>\n",
       "      <td>...</td>\n",
       "      <td>...</td>\n",
       "      <td>...</td>\n",
       "      <td>...</td>\n",
       "      <td>...</td>\n",
       "      <td>...</td>\n",
       "    </tr>\n",
       "    <tr>\n",
       "      <th>988</th>\n",
       "      <td>0</td>\n",
       "      <td>62</td>\n",
       "      <td>2</td>\n",
       "      <td>2</td>\n",
       "      <td>2</td>\n",
       "      <td>102593</td>\n",
       "    </tr>\n",
       "    <tr>\n",
       "      <th>996</th>\n",
       "      <td>0</td>\n",
       "      <td>57</td>\n",
       "      <td>2</td>\n",
       "      <td>0</td>\n",
       "      <td>2</td>\n",
       "      <td>108977</td>\n",
       "    </tr>\n",
       "    <tr>\n",
       "      <th>997</th>\n",
       "      <td>0</td>\n",
       "      <td>48</td>\n",
       "      <td>0</td>\n",
       "      <td>1</td>\n",
       "      <td>1</td>\n",
       "      <td>92347</td>\n",
       "    </tr>\n",
       "    <tr>\n",
       "      <th>998</th>\n",
       "      <td>0</td>\n",
       "      <td>65</td>\n",
       "      <td>0</td>\n",
       "      <td>2</td>\n",
       "      <td>1</td>\n",
       "      <td>97376</td>\n",
       "    </tr>\n",
       "    <tr>\n",
       "      <th>999</th>\n",
       "      <td>0</td>\n",
       "      <td>60</td>\n",
       "      <td>3</td>\n",
       "      <td>0</td>\n",
       "      <td>2</td>\n",
       "      <td>123108</td>\n",
       "    </tr>\n",
       "  </tbody>\n",
       "</table>\n",
       "<p>532 rows × 6 columns</p>\n",
       "</div>"
      ],
      "text/plain": [
       "    Gender  Age Education Dept  Seniority  BasePay\n",
       "1        0   21         1    3          5   108476\n",
       "3        0   20         2    0          4   108080\n",
       "4        0   26         2    4          5    99464\n",
       "7        0   18         3    4          5    97523\n",
       "10       0   24         3    4          5   102261\n",
       "..     ...  ...       ...  ...        ...      ...\n",
       "988      0   62         2    2          2   102593\n",
       "996      0   57         2    0          2   108977\n",
       "997      0   48         0    1          1    92347\n",
       "998      0   65         0    2          1    97376\n",
       "999      0   60         3    0          2   123108\n",
       "\n",
       "[532 rows x 6 columns]"
      ]
     },
     "execution_count": 42,
     "metadata": {},
     "output_type": "execute_result"
    }
   ],
   "source": [
    "glassdoor_df_male"
   ]
  },
  {
   "cell_type": "code",
   "execution_count": 43,
   "id": "56d3a37c",
   "metadata": {},
   "outputs": [
    {
     "data": {
      "text/html": [
       "<div>\n",
       "<style scoped>\n",
       "    .dataframe tbody tr th:only-of-type {\n",
       "        vertical-align: middle;\n",
       "    }\n",
       "\n",
       "    .dataframe tbody tr th {\n",
       "        vertical-align: top;\n",
       "    }\n",
       "\n",
       "    .dataframe thead th {\n",
       "        text-align: right;\n",
       "    }\n",
       "</style>\n",
       "<table border=\"1\" class=\"dataframe\">\n",
       "  <thead>\n",
       "    <tr style=\"text-align: right;\">\n",
       "      <th></th>\n",
       "      <th>Gender</th>\n",
       "      <th>Age</th>\n",
       "      <th>Education</th>\n",
       "      <th>Dept</th>\n",
       "      <th>Seniority</th>\n",
       "      <th>BasePay</th>\n",
       "    </tr>\n",
       "  </thead>\n",
       "  <tbody>\n",
       "    <tr>\n",
       "      <th>0</th>\n",
       "      <td>1</td>\n",
       "      <td>18</td>\n",
       "      <td>1</td>\n",
       "      <td>1</td>\n",
       "      <td>2</td>\n",
       "      <td>42363</td>\n",
       "    </tr>\n",
       "    <tr>\n",
       "      <th>2</th>\n",
       "      <td>1</td>\n",
       "      <td>19</td>\n",
       "      <td>3</td>\n",
       "      <td>2</td>\n",
       "      <td>5</td>\n",
       "      <td>90208</td>\n",
       "    </tr>\n",
       "    <tr>\n",
       "      <th>5</th>\n",
       "      <td>1</td>\n",
       "      <td>20</td>\n",
       "      <td>3</td>\n",
       "      <td>1</td>\n",
       "      <td>4</td>\n",
       "      <td>70890</td>\n",
       "    </tr>\n",
       "    <tr>\n",
       "      <th>6</th>\n",
       "      <td>1</td>\n",
       "      <td>20</td>\n",
       "      <td>1</td>\n",
       "      <td>0</td>\n",
       "      <td>4</td>\n",
       "      <td>67585</td>\n",
       "    </tr>\n",
       "    <tr>\n",
       "      <th>8</th>\n",
       "      <td>1</td>\n",
       "      <td>33</td>\n",
       "      <td>0</td>\n",
       "      <td>4</td>\n",
       "      <td>5</td>\n",
       "      <td>112976</td>\n",
       "    </tr>\n",
       "    <tr>\n",
       "      <th>...</th>\n",
       "      <td>...</td>\n",
       "      <td>...</td>\n",
       "      <td>...</td>\n",
       "      <td>...</td>\n",
       "      <td>...</td>\n",
       "      <td>...</td>\n",
       "    </tr>\n",
       "    <tr>\n",
       "      <th>991</th>\n",
       "      <td>1</td>\n",
       "      <td>65</td>\n",
       "      <td>2</td>\n",
       "      <td>2</td>\n",
       "      <td>1</td>\n",
       "      <td>106945</td>\n",
       "    </tr>\n",
       "    <tr>\n",
       "      <th>992</th>\n",
       "      <td>1</td>\n",
       "      <td>63</td>\n",
       "      <td>1</td>\n",
       "      <td>2</td>\n",
       "      <td>2</td>\n",
       "      <td>81545</td>\n",
       "    </tr>\n",
       "    <tr>\n",
       "      <th>993</th>\n",
       "      <td>1</td>\n",
       "      <td>65</td>\n",
       "      <td>2</td>\n",
       "      <td>2</td>\n",
       "      <td>1</td>\n",
       "      <td>80789</td>\n",
       "    </tr>\n",
       "    <tr>\n",
       "      <th>994</th>\n",
       "      <td>1</td>\n",
       "      <td>64</td>\n",
       "      <td>3</td>\n",
       "      <td>2</td>\n",
       "      <td>2</td>\n",
       "      <td>85253</td>\n",
       "    </tr>\n",
       "    <tr>\n",
       "      <th>995</th>\n",
       "      <td>1</td>\n",
       "      <td>61</td>\n",
       "      <td>0</td>\n",
       "      <td>2</td>\n",
       "      <td>1</td>\n",
       "      <td>62644</td>\n",
       "    </tr>\n",
       "  </tbody>\n",
       "</table>\n",
       "<p>468 rows × 6 columns</p>\n",
       "</div>"
      ],
      "text/plain": [
       "    Gender  Age Education Dept  Seniority  BasePay\n",
       "0        1   18         1    1          2    42363\n",
       "2        1   19         3    2          5    90208\n",
       "5        1   20         3    1          4    70890\n",
       "6        1   20         1    0          4    67585\n",
       "8        1   33         0    4          5   112976\n",
       "..     ...  ...       ...  ...        ...      ...\n",
       "991      1   65         2    2          1   106945\n",
       "992      1   63         1    2          2    81545\n",
       "993      1   65         2    2          1    80789\n",
       "994      1   64         3    2          2    85253\n",
       "995      1   61         0    2          1    62644\n",
       "\n",
       "[468 rows x 6 columns]"
      ]
     },
     "execution_count": 43,
     "metadata": {},
     "output_type": "execute_result"
    }
   ],
   "source": [
    "glassdoor_df_female"
   ]
  },
  {
   "cell_type": "code",
   "execution_count": 44,
   "id": "9c21e2c3",
   "metadata": {},
   "outputs": [],
   "source": [
    "# Create histogram/pmf of Seniority for males\n",
    "seniority_hist_male = thinkstats2.Hist(glassdoor_df_male)\n",
    "seniority_pmf_male = thinkstats2.Pmf(glassdoor_df_male.Seniority, label='Male')\n",
    "\n",
    "# Create histogram/pmf of Seniority for females\n",
    "seniority_hist_female = thinkstats2.Hist(glassdoor_df_female)\n",
    "seniority_pmf_female = thinkstats2.Pmf(glassdoor_df_female.Seniority, label='Female')"
   ]
  },
  {
   "cell_type": "code",
   "execution_count": 45,
   "id": "e00ef1a0",
   "metadata": {},
   "outputs": [
    {
     "data": {
      "image/png": "[encoded data removed]",
      "text/plain": [
       "<Figure size 432x288 with 1 Axes>"
      ]
     },
     "metadata": {
      "needs_background": "light"
     },
     "output_type": "display_data"
    }
   ],
   "source": [
    "thinkplot.Hist(seniority_pmf_male)\n",
    "thinkplot.Config(xlabel='Seniority', ylabel='Probability', axis =[0, 6, 0, .3])"
   ]
  },
  {
   "cell_type": "code",
   "execution_count": 46,
   "id": "66bb279b",
   "metadata": {},
   "outputs": [
    {
     "data": {
      "image/png": "[encoded data removed]",
      "text/plain": [
       "<Figure size 432x288 with 1 Axes>"
      ]
     },
     "metadata": {
      "needs_background": "light"
     },
     "output_type": "display_data"
    }
   ],
   "source": [
    "thinkplot.Hist(seniority_pmf_female)\n",
    "thinkplot.Config(xlabel='Seniority', ylabel='Probability', axis =[0, 6, 0, .3])"
   ]
  },
  {
   "cell_type": "code",
   "execution_count": 47,
   "id": "891649f0",
   "metadata": {},
   "outputs": [
    {
     "data": {
      "image/png": "[encoded data removed]",
      "text/plain": [
       "<Figure size 864x432 with 1 Axes>"
      ]
     },
     "metadata": {
      "needs_background": "light"
     },
     "output_type": "display_data"
    }
   ],
   "source": [
    "# Plot PMF together for better comparison\n",
    "width = .4\n",
    "axis =[0, 6, 0, .3]\n",
    "thinkplot.PrePlot(2, cols=2)\n",
    "thinkplot.Hist(seniority_pmf_male, align='right', width = width, label = \"Male\")\n",
    "thinkplot.Hist(seniority_pmf_female, align='left', width = width, label = \"Female\")\n",
    "thinkplot.Config(xlabel='Seniority', ylabel='Probability', axis = axis )"
   ]
  },
  {
   "cell_type": "code",
   "execution_count": 48,
   "id": "70d0767c",
   "metadata": {},
   "outputs": [],
   "source": [
    "# Create histogram/pmf of Education for males\n",
    "education_hist_male = thinkstats2.Hist(glassdoor_df_male)\n",
    "education_pmf_male = thinkstats2.Pmf(glassdoor_df_male.Education, label='Male')\n",
    "\n",
    "# Create histogram/pmf of Education for females\n",
    "education_hist_female = thinkstats2.Hist(glassdoor_df_female)\n",
    "education_pmf_female = thinkstats2.Pmf(glassdoor_df_female.Education, label='Female')"
   ]
  },
  {
   "cell_type": "code",
   "execution_count": 49,
   "id": "312fa76f",
   "metadata": {},
   "outputs": [
    {
     "data": {
      "image/png": "[encoded data removed]",
      "text/plain": [
       "<Figure size 432x288 with 1 Axes>"
      ]
     },
     "metadata": {
      "needs_background": "light"
     },
     "output_type": "display_data"
    }
   ],
   "source": [
    "thinkplot.Hist(education_pmf_male)\n",
    "thinkplot.Config(xlabel='Education', ylabel='Probability', axis = [-1, 4, 0, .3])"
   ]
  },
  {
   "cell_type": "code",
   "execution_count": 50,
   "id": "5afd00c5",
   "metadata": {},
   "outputs": [
    {
     "data": {
      "image/png": "[encoded data removed]",
      "text/plain": [
       "<Figure size 432x288 with 1 Axes>"
      ]
     },
     "metadata": {
      "needs_background": "light"
     },
     "output_type": "display_data"
    }
   ],
   "source": [
    "thinkplot.Hist(education_pmf_female)\n",
    "thinkplot.Config(xlabel='Education', ylabel='Probability', axis = [-1, 4, 0, .3])"
   ]
  },
  {
   "cell_type": "code",
   "execution_count": 51,
   "id": "d0095c0f",
   "metadata": {},
   "outputs": [
    {
     "data": {
      "image/png": "[encoded data removed]",
      "text/plain": [
       "<Figure size 864x432 with 1 Axes>"
      ]
     },
     "metadata": {
      "needs_background": "light"
     },
     "output_type": "display_data"
    }
   ],
   "source": [
    "# Plot PMF together for better comparison\n",
    "thinkplot.PrePlot(2, cols=2)\n",
    "thinkplot.Hist(education_pmf_male, align='right', width = 0.4, label = \"Male\")\n",
    "thinkplot.Hist(education_pmf_female, align='left', width = 0.4, label = \"Female\")\n",
    "thinkplot.Config(xlabel='Education', ylabel='Probability', axis = [-1, 4, 0, .3])"
   ]
  },
  {
   "cell_type": "markdown",
   "id": "1b06e221",
   "metadata": {},
   "source": [
    "## CDF"
   ]
  },
  {
   "cell_type": "code",
   "execution_count": 52,
   "id": "0f2d065b",
   "metadata": {},
   "outputs": [
    {
     "data": {
      "image/png": "[encoded data removed]",
      "text/plain": [
       "<Figure size 432x288 with 1 Axes>"
      ]
     },
     "metadata": {
      "needs_background": "light"
     },
     "output_type": "display_data"
    },
    {
     "data": {
      "text/plain": [
       "<Figure size 576x432 with 0 Axes>"
      ]
     },
     "metadata": {},
     "output_type": "display_data"
    }
   ],
   "source": [
    "cdf = thinkstats2.Cdf(glassdoor_df['BasePay'], label = 'BasePay')\n",
    "thinkplot.Cdf(cdf)\n",
    "thinkplot.Show(xlabel = 'USD', ylabel = 'CDF')"
   ]
  },
  {
   "cell_type": "markdown",
   "id": "58f44ee0",
   "metadata": {},
   "source": [
    "## Normal Probability Plot"
   ]
  },
  {
   "cell_type": "code",
   "execution_count": 53,
   "id": "fabae488",
   "metadata": {},
   "outputs": [
    {
     "data": {
      "image/png": "[encoded data removed]",
      "text/plain": [
       "<Figure size 432x288 with 1 Axes>"
      ]
     },
     "metadata": {
      "needs_background": "light"
     },
     "output_type": "display_data"
    }
   ],
   "source": [
    "mean = glassdoor_df['BasePay'].mean()\n",
    "std = glassdoor_df['BasePay'].std()\n",
    "\n",
    "xs = [-4, 4]\n",
    "fxs, fys = thinkstats2.FitLine(xs, inter=mean, slope=std)\n",
    "thinkplot.Plot(fxs, fys, color='gray', label='model')\n",
    "\n",
    "xs, ys = thinkstats2.NormalProbability(glassdoor_df['BasePay'])\n",
    "thinkplot.Plot(xs, ys, label='BasePay')\n",
    "\n",
    "thinkplot.Config(title='Normal probability plot',\n",
    "                 xlabel='Standard deviations from mean',\n",
    "                 ylabel='BasePay(USD)')"
   ]
  },
  {
   "cell_type": "markdown",
   "id": "9841cd9e",
   "metadata": {},
   "source": [
    "## Scatter Plots"
   ]
  },
  {
   "cell_type": "code",
   "execution_count": 54,
   "id": "bf150c3c",
   "metadata": {},
   "outputs": [
    {
     "data": {
      "image/png": "[encoded data removed]",
      "text/plain": [
       "<Figure size 432x288 with 1 Axes>"
      ]
     },
     "metadata": {
      "needs_background": "light"
     },
     "output_type": "display_data"
    }
   ],
   "source": [
    "# comparing male Age and male BasePay\n",
    "thinkplot.Scatter(glassdoor_df_male.Age, glassdoor_df_male.BasePay)\n",
    "thinkplot.Config(title='Male Age vs Male BasePay', \n",
    "                 xlabel='Age (years)', \n",
    "                 ylabel='BasePay (USD)', \n",
    "                 axis=[15, 70, 25000, 200000])"
   ]
  },
  {
   "cell_type": "code",
   "execution_count": 55,
   "id": "8c770b99",
   "metadata": {},
   "outputs": [
    {
     "data": {
      "text/html": [
       "<div>\n",
       "<style scoped>\n",
       "    .dataframe tbody tr th:only-of-type {\n",
       "        vertical-align: middle;\n",
       "    }\n",
       "\n",
       "    .dataframe tbody tr th {\n",
       "        vertical-align: top;\n",
       "    }\n",
       "\n",
       "    .dataframe thead th {\n",
       "        text-align: right;\n",
       "    }\n",
       "</style>\n",
       "<table border=\"1\" class=\"dataframe\">\n",
       "  <thead>\n",
       "    <tr style=\"text-align: right;\">\n",
       "      <th></th>\n",
       "      <th>Age</th>\n",
       "      <th>Seniority</th>\n",
       "      <th>BasePay</th>\n",
       "    </tr>\n",
       "  </thead>\n",
       "  <tbody>\n",
       "    <tr>\n",
       "      <th>count</th>\n",
       "      <td>532.000000</td>\n",
       "      <td>532.000000</td>\n",
       "      <td>532.000000</td>\n",
       "    </tr>\n",
       "    <tr>\n",
       "      <th>mean</th>\n",
       "      <td>41.009398</td>\n",
       "      <td>2.934211</td>\n",
       "      <td>98457.545113</td>\n",
       "    </tr>\n",
       "    <tr>\n",
       "      <th>std</th>\n",
       "      <td>14.715184</td>\n",
       "      <td>1.399958</td>\n",
       "      <td>25517.520327</td>\n",
       "    </tr>\n",
       "    <tr>\n",
       "      <th>min</th>\n",
       "      <td>18.000000</td>\n",
       "      <td>1.000000</td>\n",
       "      <td>36642.000000</td>\n",
       "    </tr>\n",
       "    <tr>\n",
       "      <th>25%</th>\n",
       "      <td>28.000000</td>\n",
       "      <td>2.000000</td>\n",
       "      <td>81452.500000</td>\n",
       "    </tr>\n",
       "    <tr>\n",
       "      <th>50%</th>\n",
       "      <td>40.000000</td>\n",
       "      <td>3.000000</td>\n",
       "      <td>98223.000000</td>\n",
       "    </tr>\n",
       "    <tr>\n",
       "      <th>75%</th>\n",
       "      <td>55.000000</td>\n",
       "      <td>4.000000</td>\n",
       "      <td>115606.250000</td>\n",
       "    </tr>\n",
       "    <tr>\n",
       "      <th>max</th>\n",
       "      <td>65.000000</td>\n",
       "      <td>5.000000</td>\n",
       "      <td>179726.000000</td>\n",
       "    </tr>\n",
       "  </tbody>\n",
       "</table>\n",
       "</div>"
      ],
      "text/plain": [
       "              Age   Seniority        BasePay\n",
       "count  532.000000  532.000000     532.000000\n",
       "mean    41.009398    2.934211   98457.545113\n",
       "std     14.715184    1.399958   25517.520327\n",
       "min     18.000000    1.000000   36642.000000\n",
       "25%     28.000000    2.000000   81452.500000\n",
       "50%     40.000000    3.000000   98223.000000\n",
       "75%     55.000000    4.000000  115606.250000\n",
       "max     65.000000    5.000000  179726.000000"
      ]
     },
     "execution_count": 55,
     "metadata": {},
     "output_type": "execute_result"
    }
   ],
   "source": [
    "glassdoor_df_male.describe()"
   ]
  },
  {
   "cell_type": "code",
   "execution_count": 56,
   "id": "34ef8611",
   "metadata": {},
   "outputs": [
    {
     "data": {
      "image/png": "[encoded data removed]",
      "text/plain": [
       "<Figure size 432x288 with 1 Axes>"
      ]
     },
     "metadata": {
      "needs_background": "light"
     },
     "output_type": "display_data"
    }
   ],
   "source": [
    "# comparing female Age and female BasePay\n",
    "thinkplot.Scatter(glassdoor_df_female.Age, glassdoor_df_female.BasePay)\n",
    "thinkplot.Config(title='Female Age vs Female BasePay', \n",
    "                 xlabel='Age (years)', \n",
    "                 ylabel='BasePay (USD)', \n",
    "                 axis=[15, 70, 25000, 200000])"
   ]
  },
  {
   "cell_type": "code",
   "execution_count": 57,
   "id": "1fd03db7",
   "metadata": {
    "scrolled": true
   },
   "outputs": [
    {
     "data": {
      "text/html": [
       "<div>\n",
       "<style scoped>\n",
       "    .dataframe tbody tr th:only-of-type {\n",
       "        vertical-align: middle;\n",
       "    }\n",
       "\n",
       "    .dataframe tbody tr th {\n",
       "        vertical-align: top;\n",
       "    }\n",
       "\n",
       "    .dataframe thead th {\n",
       "        text-align: right;\n",
       "    }\n",
       "</style>\n",
       "<table border=\"1\" class=\"dataframe\">\n",
       "  <thead>\n",
       "    <tr style=\"text-align: right;\">\n",
       "      <th></th>\n",
       "      <th>Age</th>\n",
       "      <th>Seniority</th>\n",
       "      <th>BasePay</th>\n",
       "    </tr>\n",
       "  </thead>\n",
       "  <tbody>\n",
       "    <tr>\n",
       "      <th>count</th>\n",
       "      <td>468.000000</td>\n",
       "      <td>468.000000</td>\n",
       "      <td>468.000000</td>\n",
       "    </tr>\n",
       "    <tr>\n",
       "      <th>mean</th>\n",
       "      <td>41.829060</td>\n",
       "      <td>3.012821</td>\n",
       "      <td>89942.818376</td>\n",
       "    </tr>\n",
       "    <tr>\n",
       "      <th>std</th>\n",
       "      <td>13.804254</td>\n",
       "      <td>1.389717</td>\n",
       "      <td>24378.277510</td>\n",
       "    </tr>\n",
       "    <tr>\n",
       "      <th>min</th>\n",
       "      <td>18.000000</td>\n",
       "      <td>1.000000</td>\n",
       "      <td>34208.000000</td>\n",
       "    </tr>\n",
       "    <tr>\n",
       "      <th>25%</th>\n",
       "      <td>30.000000</td>\n",
       "      <td>2.000000</td>\n",
       "      <td>73186.250000</td>\n",
       "    </tr>\n",
       "    <tr>\n",
       "      <th>50%</th>\n",
       "      <td>42.000000</td>\n",
       "      <td>3.000000</td>\n",
       "      <td>89913.500000</td>\n",
       "    </tr>\n",
       "    <tr>\n",
       "      <th>75%</th>\n",
       "      <td>54.000000</td>\n",
       "      <td>4.000000</td>\n",
       "      <td>106923.250000</td>\n",
       "    </tr>\n",
       "    <tr>\n",
       "      <th>max</th>\n",
       "      <td>65.000000</td>\n",
       "      <td>5.000000</td>\n",
       "      <td>160614.000000</td>\n",
       "    </tr>\n",
       "  </tbody>\n",
       "</table>\n",
       "</div>"
      ],
      "text/plain": [
       "              Age   Seniority        BasePay\n",
       "count  468.000000  468.000000     468.000000\n",
       "mean    41.829060    3.012821   89942.818376\n",
       "std     13.804254    1.389717   24378.277510\n",
       "min     18.000000    1.000000   34208.000000\n",
       "25%     30.000000    2.000000   73186.250000\n",
       "50%     42.000000    3.000000   89913.500000\n",
       "75%     54.000000    4.000000  106923.250000\n",
       "max     65.000000    5.000000  160614.000000"
      ]
     },
     "execution_count": 57,
     "metadata": {},
     "output_type": "execute_result"
    }
   ],
   "source": [
    "glassdoor_df_female.describe()"
   ]
  },
  {
   "cell_type": "markdown",
   "id": "81ba98d0",
   "metadata": {},
   "source": [
    "### Correlation & Covariance"
   ]
  },
  {
   "cell_type": "code",
   "execution_count": 58,
   "id": "f517e6f7",
   "metadata": {
    "scrolled": true
   },
   "outputs": [
    {
     "data": {
      "text/html": [
       "<div>\n",
       "<style scoped>\n",
       "    .dataframe tbody tr th:only-of-type {\n",
       "        vertical-align: middle;\n",
       "    }\n",
       "\n",
       "    .dataframe tbody tr th {\n",
       "        vertical-align: top;\n",
       "    }\n",
       "\n",
       "    .dataframe thead th {\n",
       "        text-align: right;\n",
       "    }\n",
       "</style>\n",
       "<table border=\"1\" class=\"dataframe\">\n",
       "  <thead>\n",
       "    <tr style=\"text-align: right;\">\n",
       "      <th></th>\n",
       "      <th>Age</th>\n",
       "      <th>Seniority</th>\n",
       "      <th>BasePay</th>\n",
       "    </tr>\n",
       "  </thead>\n",
       "  <tbody>\n",
       "    <tr>\n",
       "      <th>Age</th>\n",
       "      <td>1.000000</td>\n",
       "      <td>-0.006735</td>\n",
       "      <td>0.598388</td>\n",
       "    </tr>\n",
       "    <tr>\n",
       "      <th>Seniority</th>\n",
       "      <td>-0.006735</td>\n",
       "      <td>1.000000</td>\n",
       "      <td>0.488566</td>\n",
       "    </tr>\n",
       "    <tr>\n",
       "      <th>BasePay</th>\n",
       "      <td>0.598388</td>\n",
       "      <td>0.488566</td>\n",
       "      <td>1.000000</td>\n",
       "    </tr>\n",
       "  </tbody>\n",
       "</table>\n",
       "</div>"
      ],
      "text/plain": [
       "                Age  Seniority   BasePay\n",
       "Age        1.000000  -0.006735  0.598388\n",
       "Seniority -0.006735   1.000000  0.488566\n",
       "BasePay    0.598388   0.488566  1.000000"
      ]
     },
     "execution_count": 58,
     "metadata": {},
     "output_type": "execute_result"
    }
   ],
   "source": [
    "glassdoor_df_male.corr()"
   ]
  },
  {
   "cell_type": "code",
   "execution_count": 59,
   "id": "50457836",
   "metadata": {},
   "outputs": [
    {
     "data": {
      "text/html": [
       "<div>\n",
       "<style scoped>\n",
       "    .dataframe tbody tr th:only-of-type {\n",
       "        vertical-align: middle;\n",
       "    }\n",
       "\n",
       "    .dataframe tbody tr th {\n",
       "        vertical-align: top;\n",
       "    }\n",
       "\n",
       "    .dataframe thead th {\n",
       "        text-align: right;\n",
       "    }\n",
       "</style>\n",
       "<table border=\"1\" class=\"dataframe\">\n",
       "  <thead>\n",
       "    <tr style=\"text-align: right;\">\n",
       "      <th></th>\n",
       "      <th>Age</th>\n",
       "      <th>Seniority</th>\n",
       "      <th>BasePay</th>\n",
       "    </tr>\n",
       "  </thead>\n",
       "  <tbody>\n",
       "    <tr>\n",
       "      <th>Age</th>\n",
       "      <td>1.000000</td>\n",
       "      <td>-0.041185</td>\n",
       "      <td>0.547373</td>\n",
       "    </tr>\n",
       "    <tr>\n",
       "      <th>Seniority</th>\n",
       "      <td>-0.041185</td>\n",
       "      <td>1.000000</td>\n",
       "      <td>0.565459</td>\n",
       "    </tr>\n",
       "    <tr>\n",
       "      <th>BasePay</th>\n",
       "      <td>0.547373</td>\n",
       "      <td>0.565459</td>\n",
       "      <td>1.000000</td>\n",
       "    </tr>\n",
       "  </tbody>\n",
       "</table>\n",
       "</div>"
      ],
      "text/plain": [
       "                Age  Seniority   BasePay\n",
       "Age        1.000000  -0.041185  0.547373\n",
       "Seniority -0.041185   1.000000  0.565459\n",
       "BasePay    0.547373   0.565459  1.000000"
      ]
     },
     "execution_count": 59,
     "metadata": {},
     "output_type": "execute_result"
    }
   ],
   "source": [
    "glassdoor_df_female.corr()"
   ]
  },
  {
   "cell_type": "code",
   "execution_count": 60,
   "id": "b6afee6d",
   "metadata": {},
   "outputs": [
    {
     "data": {
      "text/html": [
       "<div>\n",
       "<style scoped>\n",
       "    .dataframe tbody tr th:only-of-type {\n",
       "        vertical-align: middle;\n",
       "    }\n",
       "\n",
       "    .dataframe tbody tr th {\n",
       "        vertical-align: top;\n",
       "    }\n",
       "\n",
       "    .dataframe thead th {\n",
       "        text-align: right;\n",
       "    }\n",
       "</style>\n",
       "<table border=\"1\" class=\"dataframe\">\n",
       "  <thead>\n",
       "    <tr style=\"text-align: right;\">\n",
       "      <th></th>\n",
       "      <th>Age</th>\n",
       "      <th>Seniority</th>\n",
       "      <th>BasePay</th>\n",
       "    </tr>\n",
       "  </thead>\n",
       "  <tbody>\n",
       "    <tr>\n",
       "      <th>Age</th>\n",
       "      <td>216.536635</td>\n",
       "      <td>-0.138740</td>\n",
       "      <td>2.246917e+05</td>\n",
       "    </tr>\n",
       "    <tr>\n",
       "      <th>Seniority</th>\n",
       "      <td>-0.138740</td>\n",
       "      <td>1.959882</td>\n",
       "      <td>1.745328e+04</td>\n",
       "    </tr>\n",
       "    <tr>\n",
       "      <th>BasePay</th>\n",
       "      <td>224691.710498</td>\n",
       "      <td>17453.278868</td>\n",
       "      <td>6.511438e+08</td>\n",
       "    </tr>\n",
       "  </tbody>\n",
       "</table>\n",
       "</div>"
      ],
      "text/plain": [
       "                     Age     Seniority       BasePay\n",
       "Age           216.536635     -0.138740  2.246917e+05\n",
       "Seniority      -0.138740      1.959882  1.745328e+04\n",
       "BasePay    224691.710498  17453.278868  6.511438e+08"
      ]
     },
     "execution_count": 60,
     "metadata": {},
     "output_type": "execute_result"
    }
   ],
   "source": [
    "glassdoor_df_male.cov()"
   ]
  },
  {
   "cell_type": "code",
   "execution_count": 61,
   "id": "9a07c6f2",
   "metadata": {},
   "outputs": [
    {
     "data": {
      "text/html": [
       "<div>\n",
       "<style scoped>\n",
       "    .dataframe tbody tr th:only-of-type {\n",
       "        vertical-align: middle;\n",
       "    }\n",
       "\n",
       "    .dataframe tbody tr th {\n",
       "        vertical-align: top;\n",
       "    }\n",
       "\n",
       "    .dataframe thead th {\n",
       "        text-align: right;\n",
       "    }\n",
       "</style>\n",
       "<table border=\"1\" class=\"dataframe\">\n",
       "  <thead>\n",
       "    <tr style=\"text-align: right;\">\n",
       "      <th></th>\n",
       "      <th>Age</th>\n",
       "      <th>Seniority</th>\n",
       "      <th>BasePay</th>\n",
       "    </tr>\n",
       "  </thead>\n",
       "  <tbody>\n",
       "    <tr>\n",
       "      <th>Age</th>\n",
       "      <td>190.557441</td>\n",
       "      <td>-0.790095</td>\n",
       "      <td>1.842042e+05</td>\n",
       "    </tr>\n",
       "    <tr>\n",
       "      <th>Seniority</th>\n",
       "      <td>-0.790095</td>\n",
       "      <td>1.931313</td>\n",
       "      <td>1.915712e+04</td>\n",
       "    </tr>\n",
       "    <tr>\n",
       "      <th>BasePay</th>\n",
       "      <td>184204.170171</td>\n",
       "      <td>19157.120107</td>\n",
       "      <td>5.943004e+08</td>\n",
       "    </tr>\n",
       "  </tbody>\n",
       "</table>\n",
       "</div>"
      ],
      "text/plain": [
       "                     Age     Seniority       BasePay\n",
       "Age           190.557441     -0.790095  1.842042e+05\n",
       "Seniority      -0.790095      1.931313  1.915712e+04\n",
       "BasePay    184204.170171  19157.120107  5.943004e+08"
      ]
     },
     "execution_count": 61,
     "metadata": {},
     "output_type": "execute_result"
    }
   ],
   "source": [
    "glassdoor_df_female.cov()"
   ]
  },
  {
   "cell_type": "markdown",
   "id": "070fd760",
   "metadata": {},
   "source": [
    "### Pearson's Correlation"
   ]
  },
  {
   "cell_type": "code",
   "execution_count": 62,
   "id": "dde56b5f",
   "metadata": {},
   "outputs": [
    {
     "data": {
      "text/plain": [
       "0.598388019151478"
      ]
     },
     "execution_count": 62,
     "metadata": {},
     "output_type": "execute_result"
    }
   ],
   "source": [
    "thinkstats2.Corr(glassdoor_df_male.Age, glassdoor_df_male.BasePay)"
   ]
  },
  {
   "cell_type": "code",
   "execution_count": 63,
   "id": "e62f753e",
   "metadata": {},
   "outputs": [
    {
     "data": {
      "text/plain": [
       "0.5473731441675206"
      ]
     },
     "execution_count": 63,
     "metadata": {},
     "output_type": "execute_result"
    }
   ],
   "source": [
    "thinkstats2.Corr(glassdoor_df_female.Age, glassdoor_df_female.BasePay)"
   ]
  },
  {
   "cell_type": "markdown",
   "id": "212a4a45",
   "metadata": {},
   "source": [
    "## Hypothesis Testing"
   ]
  },
  {
   "cell_type": "code",
   "execution_count": 64,
   "id": "b75d8a43",
   "metadata": {},
   "outputs": [
    {
     "data": {
      "text/plain": [
       "98457.54511278195"
      ]
     },
     "execution_count": 64,
     "metadata": {},
     "output_type": "execute_result"
    }
   ],
   "source": [
    "glassdoor_df_male.BasePay.mean()"
   ]
  },
  {
   "cell_type": "code",
   "execution_count": 65,
   "id": "644947f8",
   "metadata": {},
   "outputs": [
    {
     "data": {
      "text/plain": [
       "89942.81837606838"
      ]
     },
     "execution_count": 65,
     "metadata": {},
     "output_type": "execute_result"
    }
   ],
   "source": [
    "glassdoor_df_female.BasePay.mean()"
   ]
  },
  {
   "cell_type": "code",
   "execution_count": 66,
   "id": "2ce6afc4",
   "metadata": {},
   "outputs": [],
   "source": [
    "class DiffMeansPermute(thinkstats2.HypothesisTest):\n",
    "\n",
    "    def TestStatistic(self, data):\n",
    "        group1, group2 = data\n",
    "        test_stat = abs(group1.mean() - group2.mean())\n",
    "        return test_stat\n",
    "\n",
    "    def MakeModel(self):\n",
    "        group1, group2 = self.data\n",
    "        self.n, self.m = len(group1), len(group2)\n",
    "        self.pool = np.hstack((group1, group2))\n",
    "\n",
    "    def RunModel(self):\n",
    "        np.random.shuffle(self.pool)\n",
    "        data = self.pool[:self.n], self.pool[self.n:]\n",
    "        return data"
   ]
  },
  {
   "cell_type": "code",
   "execution_count": 67,
   "id": "3401ae40",
   "metadata": {},
   "outputs": [],
   "source": [
    "data = glassdoor_df_male.BasePay.values, glassdoor_df_female.BasePay.values"
   ]
  },
  {
   "cell_type": "code",
   "execution_count": 68,
   "id": "648db330",
   "metadata": {},
   "outputs": [
    {
     "data": {
      "text/plain": [
       "0.0"
      ]
     },
     "execution_count": 68,
     "metadata": {},
     "output_type": "execute_result"
    }
   ],
   "source": [
    "ht = DiffMeansPermute(data)\n",
    "pvalue = ht.PValue()\n",
    "pvalue"
   ]
  },
  {
   "cell_type": "markdown",
   "id": "01a30070",
   "metadata": {},
   "source": [
    "## Multiple Regression Analysis"
   ]
  },
  {
   "cell_type": "code",
   "execution_count": 69,
   "id": "8612e996",
   "metadata": {},
   "outputs": [
    {
     "data": {
      "text/html": [
       "<table class=\"simpletable\">\n",
       "<caption>OLS Regression Results</caption>\n",
       "<tr>\n",
       "  <th>Dep. Variable:</th>         <td>BasePay</td>     <th>  R-squared:         </th> <td>   0.317</td> \n",
       "</tr>\n",
       "<tr>\n",
       "  <th>Model:</th>                   <td>OLS</td>       <th>  Adj. R-squared:    </th> <td>   0.316</td> \n",
       "</tr>\n",
       "<tr>\n",
       "  <th>Method:</th>             <td>Least Squares</td>  <th>  F-statistic:       </th> <td>   462.4</td> \n",
       "</tr>\n",
       "<tr>\n",
       "  <th>Date:</th>             <td>Fri, 04 Mar 2022</td> <th>  Prob (F-statistic):</th> <td>1.41e-84</td> \n",
       "</tr>\n",
       "<tr>\n",
       "  <th>Time:</th>                 <td>11:13:39</td>     <th>  Log-Likelihood:    </th> <td> -11368.</td> \n",
       "</tr>\n",
       "<tr>\n",
       "  <th>No. Observations:</th>      <td>  1000</td>      <th>  AIC:               </th> <td>2.274e+04</td>\n",
       "</tr>\n",
       "<tr>\n",
       "  <th>Df Residuals:</th>          <td>   998</td>      <th>  BIC:               </th> <td>2.275e+04</td>\n",
       "</tr>\n",
       "<tr>\n",
       "  <th>Df Model:</th>              <td>     1</td>      <th>                     </th>     <td> </td>    \n",
       "</tr>\n",
       "<tr>\n",
       "  <th>Covariance Type:</th>      <td>nonrobust</td>    <th>                     </th>     <td> </td>    \n",
       "</tr>\n",
       "</table>\n",
       "<table class=\"simpletable\">\n",
       "<tr>\n",
       "      <td></td>         <th>coef</th>     <th>std err</th>      <th>t</th>      <th>P>|t|</th>  <th>[0.025</th>    <th>0.975]</th>  \n",
       "</tr>\n",
       "<tr>\n",
       "  <th>Intercept</th> <td> 5.319e+04</td> <td> 2031.060</td> <td>   26.188</td> <td> 0.000</td> <td> 4.92e+04</td> <td> 5.72e+04</td>\n",
       "</tr>\n",
       "<tr>\n",
       "  <th>Age</th>       <td>  997.3471</td> <td>   46.382</td> <td>   21.503</td> <td> 0.000</td> <td>  906.329</td> <td> 1088.365</td>\n",
       "</tr>\n",
       "</table>\n",
       "<table class=\"simpletable\">\n",
       "<tr>\n",
       "  <th>Omnibus:</th>       <td> 6.938</td> <th>  Durbin-Watson:     </th> <td>   1.948</td>\n",
       "</tr>\n",
       "<tr>\n",
       "  <th>Prob(Omnibus):</th> <td> 0.031</td> <th>  Jarque-Bera (JB):  </th> <td>   7.038</td>\n",
       "</tr>\n",
       "<tr>\n",
       "  <th>Skew:</th>          <td> 0.195</td> <th>  Prob(JB):          </th> <td>  0.0296</td>\n",
       "</tr>\n",
       "<tr>\n",
       "  <th>Kurtosis:</th>      <td> 2.870</td> <th>  Cond. No.          </th> <td>    134.</td>\n",
       "</tr>\n",
       "</table><br/><br/>Notes:<br/>[1] Standard Errors assume that the covariance matrix of the errors is correctly specified."
      ],
      "text/plain": [
       "<class 'statsmodels.iolib.summary.Summary'>\n",
       "\"\"\"\n",
       "                            OLS Regression Results                            \n",
       "==============================================================================\n",
       "Dep. Variable:                BasePay   R-squared:                       0.317\n",
       "Model:                            OLS   Adj. R-squared:                  0.316\n",
       "Method:                 Least Squares   F-statistic:                     462.4\n",
       "Date:                Fri, 04 Mar 2022   Prob (F-statistic):           1.41e-84\n",
       "Time:                        11:13:39   Log-Likelihood:                -11368.\n",
       "No. Observations:                1000   AIC:                         2.274e+04\n",
       "Df Residuals:                     998   BIC:                         2.275e+04\n",
       "Df Model:                           1                                         \n",
       "Covariance Type:            nonrobust                                         \n",
       "==============================================================================\n",
       "                 coef    std err          t      P>|t|      [0.025      0.975]\n",
       "------------------------------------------------------------------------------\n",
       "Intercept   5.319e+04   2031.060     26.188      0.000    4.92e+04    5.72e+04\n",
       "Age          997.3471     46.382     21.503      0.000     906.329    1088.365\n",
       "==============================================================================\n",
       "Omnibus:                        6.938   Durbin-Watson:                   1.948\n",
       "Prob(Omnibus):                  0.031   Jarque-Bera (JB):                7.038\n",
       "Skew:                           0.195   Prob(JB):                       0.0296\n",
       "Kurtosis:                       2.870   Cond. No.                         134.\n",
       "==============================================================================\n",
       "\n",
       "Notes:\n",
       "[1] Standard Errors assume that the covariance matrix of the errors is correctly specified.\n",
       "\"\"\""
      ]
     },
     "execution_count": 69,
     "metadata": {},
     "output_type": "execute_result"
    }
   ],
   "source": [
    "formula = 'BasePay ~ Age'\n",
    "results = smf.ols(formula, data=glassdoor_df).fit()\n",
    "results.summary()"
   ]
  },
  {
   "cell_type": "code",
   "execution_count": 70,
   "id": "a3e9f9b1",
   "metadata": {},
   "outputs": [
    {
     "data": {
      "text/html": [
       "<table class=\"simpletable\">\n",
       "<caption>OLS Regression Results</caption>\n",
       "<tr>\n",
       "  <th>Dep. Variable:</th>         <td>BasePay</td>     <th>  R-squared:         </th> <td>   0.343</td> \n",
       "</tr>\n",
       "<tr>\n",
       "  <th>Model:</th>                   <td>OLS</td>       <th>  Adj. R-squared:    </th> <td>   0.341</td> \n",
       "</tr>\n",
       "<tr>\n",
       "  <th>Method:</th>             <td>Least Squares</td>  <th>  F-statistic:       </th> <td>   130.0</td> \n",
       "</tr>\n",
       "<tr>\n",
       "  <th>Date:</th>             <td>Fri, 04 Mar 2022</td> <th>  Prob (F-statistic):</th> <td>2.40e-89</td> \n",
       "</tr>\n",
       "<tr>\n",
       "  <th>Time:</th>                 <td>11:13:39</td>     <th>  Log-Likelihood:    </th> <td> -11348.</td> \n",
       "</tr>\n",
       "<tr>\n",
       "  <th>No. Observations:</th>      <td>  1000</td>      <th>  AIC:               </th> <td>2.271e+04</td>\n",
       "</tr>\n",
       "<tr>\n",
       "  <th>Df Residuals:</th>          <td>   995</td>      <th>  BIC:               </th> <td>2.273e+04</td>\n",
       "</tr>\n",
       "<tr>\n",
       "  <th>Df Model:</th>              <td>     4</td>      <th>                     </th>     <td> </td>    \n",
       "</tr>\n",
       "<tr>\n",
       "  <th>Covariance Type:</th>      <td>nonrobust</td>    <th>                     </th>     <td> </td>    \n",
       "</tr>\n",
       "</table>\n",
       "<table class=\"simpletable\">\n",
       "<tr>\n",
       "         <td></td>           <th>coef</th>     <th>std err</th>      <th>t</th>      <th>P>|t|</th>  <th>[0.025</th>    <th>0.975]</th>  \n",
       "</tr>\n",
       "<tr>\n",
       "  <th>Intercept</th>      <td> 4.796e+04</td> <td> 2259.176</td> <td>   21.230</td> <td> 0.000</td> <td> 4.35e+04</td> <td> 5.24e+04</td>\n",
       "</tr>\n",
       "<tr>\n",
       "  <th>Education[T.1]</th> <td> 3391.3493</td> <td> 1831.336</td> <td>    1.852</td> <td> 0.064</td> <td> -202.375</td> <td> 6985.074</td>\n",
       "</tr>\n",
       "<tr>\n",
       "  <th>Education[T.2]</th> <td> 8437.0823</td> <td> 1803.125</td> <td>    4.679</td> <td> 0.000</td> <td> 4898.718</td> <td>  1.2e+04</td>\n",
       "</tr>\n",
       "<tr>\n",
       "  <th>Education[T.3]</th> <td> 1.044e+04</td> <td> 1837.656</td> <td>    5.683</td> <td> 0.000</td> <td> 6837.979</td> <td> 1.41e+04</td>\n",
       "</tr>\n",
       "<tr>\n",
       "  <th>Age</th>            <td>  991.6263</td> <td>   45.547</td> <td>   21.772</td> <td> 0.000</td> <td>  902.248</td> <td> 1081.005</td>\n",
       "</tr>\n",
       "</table>\n",
       "<table class=\"simpletable\">\n",
       "<tr>\n",
       "  <th>Omnibus:</th>       <td> 6.598</td> <th>  Durbin-Watson:     </th> <td>   1.952</td>\n",
       "</tr>\n",
       "<tr>\n",
       "  <th>Prob(Omnibus):</th> <td> 0.037</td> <th>  Jarque-Bera (JB):  </th> <td>   6.689</td>\n",
       "</tr>\n",
       "<tr>\n",
       "  <th>Skew:</th>          <td> 0.189</td> <th>  Prob(JB):          </th> <td>  0.0353</td>\n",
       "</tr>\n",
       "<tr>\n",
       "  <th>Kurtosis:</th>      <td> 2.869</td> <th>  Cond. No.          </th> <td>    198.</td>\n",
       "</tr>\n",
       "</table><br/><br/>Notes:<br/>[1] Standard Errors assume that the covariance matrix of the errors is correctly specified."
      ],
      "text/plain": [
       "<class 'statsmodels.iolib.summary.Summary'>\n",
       "\"\"\"\n",
       "                            OLS Regression Results                            \n",
       "==============================================================================\n",
       "Dep. Variable:                BasePay   R-squared:                       0.343\n",
       "Model:                            OLS   Adj. R-squared:                  0.341\n",
       "Method:                 Least Squares   F-statistic:                     130.0\n",
       "Date:                Fri, 04 Mar 2022   Prob (F-statistic):           2.40e-89\n",
       "Time:                        11:13:39   Log-Likelihood:                -11348.\n",
       "No. Observations:                1000   AIC:                         2.271e+04\n",
       "Df Residuals:                     995   BIC:                         2.273e+04\n",
       "Df Model:                           4                                         \n",
       "Covariance Type:            nonrobust                                         \n",
       "==================================================================================\n",
       "                     coef    std err          t      P>|t|      [0.025      0.975]\n",
       "----------------------------------------------------------------------------------\n",
       "Intercept       4.796e+04   2259.176     21.230      0.000    4.35e+04    5.24e+04\n",
       "Education[T.1]  3391.3493   1831.336      1.852      0.064    -202.375    6985.074\n",
       "Education[T.2]  8437.0823   1803.125      4.679      0.000    4898.718     1.2e+04\n",
       "Education[T.3]  1.044e+04   1837.656      5.683      0.000    6837.979    1.41e+04\n",
       "Age              991.6263     45.547     21.772      0.000     902.248    1081.005\n",
       "==============================================================================\n",
       "Omnibus:                        6.598   Durbin-Watson:                   1.952\n",
       "Prob(Omnibus):                  0.037   Jarque-Bera (JB):                6.689\n",
       "Skew:                           0.189   Prob(JB):                       0.0353\n",
       "Kurtosis:                       2.869   Cond. No.                         198.\n",
       "==============================================================================\n",
       "\n",
       "Notes:\n",
       "[1] Standard Errors assume that the covariance matrix of the errors is correctly specified.\n",
       "\"\"\""
      ]
     },
     "execution_count": 70,
     "metadata": {},
     "output_type": "execute_result"
    }
   ],
   "source": [
    "formula = 'BasePay ~ Age + Education'\n",
    "results = smf.ols(formula, data=glassdoor_df).fit()\n",
    "results.summary()"
   ]
  },
  {
   "cell_type": "code",
   "execution_count": 71,
   "id": "a98289c8",
   "metadata": {},
   "outputs": [
    {
     "data": {
      "text/html": [
       "<table class=\"simpletable\">\n",
       "<caption>OLS Regression Results</caption>\n",
       "<tr>\n",
       "  <th>Dep. Variable:</th>         <td>BasePay</td>     <th>  R-squared:         </th> <td>   0.357</td> \n",
       "</tr>\n",
       "<tr>\n",
       "  <th>Model:</th>                   <td>OLS</td>       <th>  Adj. R-squared:    </th> <td>   0.351</td> \n",
       "</tr>\n",
       "<tr>\n",
       "  <th>Method:</th>             <td>Least Squares</td>  <th>  F-statistic:       </th> <td>   68.64</td> \n",
       "</tr>\n",
       "<tr>\n",
       "  <th>Date:</th>             <td>Fri, 04 Mar 2022</td> <th>  Prob (F-statistic):</th> <td>1.25e-89</td> \n",
       "</tr>\n",
       "<tr>\n",
       "  <th>Time:</th>                 <td>11:13:39</td>     <th>  Log-Likelihood:    </th> <td> -11338.</td> \n",
       "</tr>\n",
       "<tr>\n",
       "  <th>No. Observations:</th>      <td>  1000</td>      <th>  AIC:               </th> <td>2.269e+04</td>\n",
       "</tr>\n",
       "<tr>\n",
       "  <th>Df Residuals:</th>          <td>   991</td>      <th>  BIC:               </th> <td>2.274e+04</td>\n",
       "</tr>\n",
       "<tr>\n",
       "  <th>Df Model:</th>              <td>     8</td>      <th>                     </th>     <td> </td>    \n",
       "</tr>\n",
       "<tr>\n",
       "  <th>Covariance Type:</th>      <td>nonrobust</td>    <th>                     </th>     <td> </td>    \n",
       "</tr>\n",
       "</table>\n",
       "<table class=\"simpletable\">\n",
       "<tr>\n",
       "         <td></td>           <th>coef</th>     <th>std err</th>      <th>t</th>      <th>P>|t|</th>  <th>[0.025</th>    <th>0.975]</th>  \n",
       "</tr>\n",
       "<tr>\n",
       "  <th>Intercept</th>      <td> 4.998e+04</td> <td> 2607.417</td> <td>   19.169</td> <td> 0.000</td> <td> 4.49e+04</td> <td> 5.51e+04</td>\n",
       "</tr>\n",
       "<tr>\n",
       "  <th>Education[T.1]</th> <td> 3538.5216</td> <td> 1818.023</td> <td>    1.946</td> <td> 0.052</td> <td>  -29.094</td> <td> 7106.138</td>\n",
       "</tr>\n",
       "<tr>\n",
       "  <th>Education[T.2]</th> <td> 8568.0472</td> <td> 1789.724</td> <td>    4.787</td> <td> 0.000</td> <td> 5055.963</td> <td> 1.21e+04</td>\n",
       "</tr>\n",
       "<tr>\n",
       "  <th>Education[T.3]</th> <td> 1.051e+04</td> <td> 1823.364</td> <td>    5.761</td> <td> 0.000</td> <td> 6926.994</td> <td> 1.41e+04</td>\n",
       "</tr>\n",
       "<tr>\n",
       "  <th>Dept[T.1]</th>      <td>-6569.0403</td> <td> 1999.995</td> <td>   -3.285</td> <td> 0.001</td> <td>-1.05e+04</td> <td>-2644.328</td>\n",
       "</tr>\n",
       "<tr>\n",
       "  <th>Dept[T.2]</th>      <td>-4279.9648</td> <td> 2045.201</td> <td>   -2.093</td> <td> 0.037</td> <td>-8293.387</td> <td> -266.543</td>\n",
       "</tr>\n",
       "<tr>\n",
       "  <th>Dept[T.3]</th>      <td>  314.5441</td> <td> 2030.129</td> <td>    0.155</td> <td> 0.877</td> <td>-3669.302</td> <td> 4298.390</td>\n",
       "</tr>\n",
       "<tr>\n",
       "  <th>Dept[T.4]</th>      <td>  533.3599</td> <td> 2048.615</td> <td>    0.260</td> <td> 0.795</td> <td>-3486.761</td> <td> 4553.481</td>\n",
       "</tr>\n",
       "<tr>\n",
       "  <th>Age</th>            <td>  990.1698</td> <td>   45.243</td> <td>   21.886</td> <td> 0.000</td> <td>  901.388</td> <td> 1078.952</td>\n",
       "</tr>\n",
       "</table>\n",
       "<table class=\"simpletable\">\n",
       "<tr>\n",
       "  <th>Omnibus:</th>       <td> 5.325</td> <th>  Durbin-Watson:     </th> <td>   1.971</td>\n",
       "</tr>\n",
       "<tr>\n",
       "  <th>Prob(Omnibus):</th> <td> 0.070</td> <th>  Jarque-Bera (JB):  </th> <td>   5.216</td>\n",
       "</tr>\n",
       "<tr>\n",
       "  <th>Skew:</th>          <td> 0.147</td> <th>  Prob(JB):          </th> <td>  0.0737</td>\n",
       "</tr>\n",
       "<tr>\n",
       "  <th>Kurtosis:</th>      <td> 2.804</td> <th>  Cond. No.          </th> <td>    248.</td>\n",
       "</tr>\n",
       "</table><br/><br/>Notes:<br/>[1] Standard Errors assume that the covariance matrix of the errors is correctly specified."
      ],
      "text/plain": [
       "<class 'statsmodels.iolib.summary.Summary'>\n",
       "\"\"\"\n",
       "                            OLS Regression Results                            \n",
       "==============================================================================\n",
       "Dep. Variable:                BasePay   R-squared:                       0.357\n",
       "Model:                            OLS   Adj. R-squared:                  0.351\n",
       "Method:                 Least Squares   F-statistic:                     68.64\n",
       "Date:                Fri, 04 Mar 2022   Prob (F-statistic):           1.25e-89\n",
       "Time:                        11:13:39   Log-Likelihood:                -11338.\n",
       "No. Observations:                1000   AIC:                         2.269e+04\n",
       "Df Residuals:                     991   BIC:                         2.274e+04\n",
       "Df Model:                           8                                         \n",
       "Covariance Type:            nonrobust                                         \n",
       "==================================================================================\n",
       "                     coef    std err          t      P>|t|      [0.025      0.975]\n",
       "----------------------------------------------------------------------------------\n",
       "Intercept       4.998e+04   2607.417     19.169      0.000    4.49e+04    5.51e+04\n",
       "Education[T.1]  3538.5216   1818.023      1.946      0.052     -29.094    7106.138\n",
       "Education[T.2]  8568.0472   1789.724      4.787      0.000    5055.963    1.21e+04\n",
       "Education[T.3]  1.051e+04   1823.364      5.761      0.000    6926.994    1.41e+04\n",
       "Dept[T.1]      -6569.0403   1999.995     -3.285      0.001   -1.05e+04   -2644.328\n",
       "Dept[T.2]      -4279.9648   2045.201     -2.093      0.037   -8293.387    -266.543\n",
       "Dept[T.3]        314.5441   2030.129      0.155      0.877   -3669.302    4298.390\n",
       "Dept[T.4]        533.3599   2048.615      0.260      0.795   -3486.761    4553.481\n",
       "Age              990.1698     45.243     21.886      0.000     901.388    1078.952\n",
       "==============================================================================\n",
       "Omnibus:                        5.325   Durbin-Watson:                   1.971\n",
       "Prob(Omnibus):                  0.070   Jarque-Bera (JB):                5.216\n",
       "Skew:                           0.147   Prob(JB):                       0.0737\n",
       "Kurtosis:                       2.804   Cond. No.                         248.\n",
       "==============================================================================\n",
       "\n",
       "Notes:\n",
       "[1] Standard Errors assume that the covariance matrix of the errors is correctly specified.\n",
       "\"\"\""
      ]
     },
     "execution_count": 71,
     "metadata": {},
     "output_type": "execute_result"
    }
   ],
   "source": [
    "formula = 'BasePay ~ Age + Education + Dept'\n",
    "results = smf.ols(formula, data=glassdoor_df).fit()\n",
    "results.summary()"
   ]
  },
  {
   "cell_type": "code",
   "execution_count": 72,
   "id": "2884bef7",
   "metadata": {},
   "outputs": [
    {
     "data": {
      "text/html": [
       "<table class=\"simpletable\">\n",
       "<caption>OLS Regression Results</caption>\n",
       "<tr>\n",
       "  <th>Dep. Variable:</th>         <td>BasePay</td>     <th>  R-squared:         </th> <td>   0.620</td> \n",
       "</tr>\n",
       "<tr>\n",
       "  <th>Model:</th>                   <td>OLS</td>       <th>  Adj. R-squared:    </th> <td>   0.617</td> \n",
       "</tr>\n",
       "<tr>\n",
       "  <th>Method:</th>             <td>Least Squares</td>  <th>  F-statistic:       </th> <td>   179.8</td> \n",
       "</tr>\n",
       "<tr>\n",
       "  <th>Date:</th>             <td>Fri, 04 Mar 2022</td> <th>  Prob (F-statistic):</th> <td>2.35e-201</td>\n",
       "</tr>\n",
       "<tr>\n",
       "  <th>Time:</th>                 <td>11:13:39</td>     <th>  Log-Likelihood:    </th> <td> -11074.</td> \n",
       "</tr>\n",
       "<tr>\n",
       "  <th>No. Observations:</th>      <td>  1000</td>      <th>  AIC:               </th> <td>2.217e+04</td>\n",
       "</tr>\n",
       "<tr>\n",
       "  <th>Df Residuals:</th>          <td>   990</td>      <th>  BIC:               </th> <td>2.222e+04</td>\n",
       "</tr>\n",
       "<tr>\n",
       "  <th>Df Model:</th>              <td>     9</td>      <th>                     </th>     <td> </td>    \n",
       "</tr>\n",
       "<tr>\n",
       "  <th>Covariance Type:</th>      <td>nonrobust</td>    <th>                     </th>     <td> </td>    \n",
       "</tr>\n",
       "</table>\n",
       "<table class=\"simpletable\">\n",
       "<tr>\n",
       "         <td></td>           <th>coef</th>     <th>std err</th>      <th>t</th>      <th>P>|t|</th>  <th>[0.025</th>    <th>0.975]</th>  \n",
       "</tr>\n",
       "<tr>\n",
       "  <th>Intercept</th>      <td> 2.346e+04</td> <td> 2244.039</td> <td>   10.454</td> <td> 0.000</td> <td> 1.91e+04</td> <td> 2.79e+04</td>\n",
       "</tr>\n",
       "<tr>\n",
       "  <th>Education[T.1]</th> <td> 1697.9017</td> <td> 1398.697</td> <td>    1.214</td> <td> 0.225</td> <td>-1046.850</td> <td> 4442.653</td>\n",
       "</tr>\n",
       "<tr>\n",
       "  <th>Education[T.2]</th> <td> 7037.1283</td> <td> 1376.430</td> <td>    5.113</td> <td> 0.000</td> <td> 4336.073</td> <td> 9738.184</td>\n",
       "</tr>\n",
       "<tr>\n",
       "  <th>Education[T.3]</th> <td> 8571.8956</td> <td> 1402.977</td> <td>    6.110</td> <td> 0.000</td> <td> 5818.746</td> <td> 1.13e+04</td>\n",
       "</tr>\n",
       "<tr>\n",
       "  <th>Dept[T.1]</th>      <td>-5582.1141</td> <td> 1537.222</td> <td>   -3.631</td> <td> 0.000</td> <td>-8598.702</td> <td>-2565.526</td>\n",
       "</tr>\n",
       "<tr>\n",
       "  <th>Dept[T.2]</th>      <td>-6286.7890</td> <td> 1573.357</td> <td>   -3.996</td> <td> 0.000</td> <td>-9374.287</td> <td>-3199.291</td>\n",
       "</tr>\n",
       "<tr>\n",
       "  <th>Dept[T.3]</th>      <td> -529.3290</td> <td> 1560.247</td> <td>   -0.339</td> <td> 0.734</td> <td>-3591.101</td> <td> 2532.443</td>\n",
       "</tr>\n",
       "<tr>\n",
       "  <th>Dept[T.4]</th>      <td>-1845.2613</td> <td> 1576.728</td> <td>   -1.170</td> <td> 0.242</td> <td>-4939.374</td> <td> 1248.852</td>\n",
       "</tr>\n",
       "<tr>\n",
       "  <th>Age</th>            <td> 1007.3788</td> <td>   34.770</td> <td>   28.973</td> <td> 0.000</td> <td>  939.148</td> <td> 1075.610</td>\n",
       "</tr>\n",
       "<tr>\n",
       "  <th>Seniority</th>      <td> 9394.0315</td> <td>  358.017</td> <td>   26.239</td> <td> 0.000</td> <td> 8691.473</td> <td> 1.01e+04</td>\n",
       "</tr>\n",
       "</table>\n",
       "<table class=\"simpletable\">\n",
       "<tr>\n",
       "  <th>Omnibus:</th>       <td>29.662</td> <th>  Durbin-Watson:     </th> <td>   2.011</td>\n",
       "</tr>\n",
       "<tr>\n",
       "  <th>Prob(Omnibus):</th> <td> 0.000</td> <th>  Jarque-Bera (JB):  </th> <td>  31.522</td>\n",
       "</tr>\n",
       "<tr>\n",
       "  <th>Skew:</th>          <td> 0.423</td> <th>  Prob(JB):          </th> <td>1.43e-07</td>\n",
       "</tr>\n",
       "<tr>\n",
       "  <th>Kurtosis:</th>      <td> 3.199</td> <th>  Cond. No.          </th> <td>    253.</td>\n",
       "</tr>\n",
       "</table><br/><br/>Notes:<br/>[1] Standard Errors assume that the covariance matrix of the errors is correctly specified."
      ],
      "text/plain": [
       "<class 'statsmodels.iolib.summary.Summary'>\n",
       "\"\"\"\n",
       "                            OLS Regression Results                            \n",
       "==============================================================================\n",
       "Dep. Variable:                BasePay   R-squared:                       0.620\n",
       "Model:                            OLS   Adj. R-squared:                  0.617\n",
       "Method:                 Least Squares   F-statistic:                     179.8\n",
       "Date:                Fri, 04 Mar 2022   Prob (F-statistic):          2.35e-201\n",
       "Time:                        11:13:39   Log-Likelihood:                -11074.\n",
       "No. Observations:                1000   AIC:                         2.217e+04\n",
       "Df Residuals:                     990   BIC:                         2.222e+04\n",
       "Df Model:                           9                                         \n",
       "Covariance Type:            nonrobust                                         \n",
       "==================================================================================\n",
       "                     coef    std err          t      P>|t|      [0.025      0.975]\n",
       "----------------------------------------------------------------------------------\n",
       "Intercept       2.346e+04   2244.039     10.454      0.000    1.91e+04    2.79e+04\n",
       "Education[T.1]  1697.9017   1398.697      1.214      0.225   -1046.850    4442.653\n",
       "Education[T.2]  7037.1283   1376.430      5.113      0.000    4336.073    9738.184\n",
       "Education[T.3]  8571.8956   1402.977      6.110      0.000    5818.746    1.13e+04\n",
       "Dept[T.1]      -5582.1141   1537.222     -3.631      0.000   -8598.702   -2565.526\n",
       "Dept[T.2]      -6286.7890   1573.357     -3.996      0.000   -9374.287   -3199.291\n",
       "Dept[T.3]       -529.3290   1560.247     -0.339      0.734   -3591.101    2532.443\n",
       "Dept[T.4]      -1845.2613   1576.728     -1.170      0.242   -4939.374    1248.852\n",
       "Age             1007.3788     34.770     28.973      0.000     939.148    1075.610\n",
       "Seniority       9394.0315    358.017     26.239      0.000    8691.473    1.01e+04\n",
       "==============================================================================\n",
       "Omnibus:                       29.662   Durbin-Watson:                   2.011\n",
       "Prob(Omnibus):                  0.000   Jarque-Bera (JB):               31.522\n",
       "Skew:                           0.423   Prob(JB):                     1.43e-07\n",
       "Kurtosis:                       3.199   Cond. No.                         253.\n",
       "==============================================================================\n",
       "\n",
       "Notes:\n",
       "[1] Standard Errors assume that the covariance matrix of the errors is correctly specified.\n",
       "\"\"\""
      ]
     },
     "execution_count": 72,
     "metadata": {},
     "output_type": "execute_result"
    }
   ],
   "source": [
    "formula = 'BasePay ~ Age + Education + Dept + Seniority'\n",
    "results = smf.ols(formula, data=glassdoor_df).fit()\n",
    "results.summary()"
   ]
  },
  {
   "cell_type": "code",
   "execution_count": 73,
   "id": "59abd9f3",
   "metadata": {},
   "outputs": [
    {
     "data": {
      "text/html": [
       "<table class=\"simpletable\">\n",
       "<caption>OLS Regression Results</caption>\n",
       "<tr>\n",
       "  <th>Dep. Variable:</th>         <td>BasePay</td>     <th>  R-squared:         </th> <td>   0.656</td> \n",
       "</tr>\n",
       "<tr>\n",
       "  <th>Model:</th>                   <td>OLS</td>       <th>  Adj. R-squared:    </th> <td>   0.653</td> \n",
       "</tr>\n",
       "<tr>\n",
       "  <th>Method:</th>             <td>Least Squares</td>  <th>  F-statistic:       </th> <td>   188.8</td> \n",
       "</tr>\n",
       "<tr>\n",
       "  <th>Date:</th>             <td>Fri, 04 Mar 2022</td> <th>  Prob (F-statistic):</th> <td>2.30e-221</td>\n",
       "</tr>\n",
       "<tr>\n",
       "  <th>Time:</th>                 <td>11:13:39</td>     <th>  Log-Likelihood:    </th> <td> -11025.</td> \n",
       "</tr>\n",
       "<tr>\n",
       "  <th>No. Observations:</th>      <td>  1000</td>      <th>  AIC:               </th> <td>2.207e+04</td>\n",
       "</tr>\n",
       "<tr>\n",
       "  <th>Df Residuals:</th>          <td>   989</td>      <th>  BIC:               </th> <td>2.213e+04</td>\n",
       "</tr>\n",
       "<tr>\n",
       "  <th>Df Model:</th>              <td>    10</td>      <th>                     </th>     <td> </td>    \n",
       "</tr>\n",
       "<tr>\n",
       "  <th>Covariance Type:</th>      <td>nonrobust</td>    <th>                     </th>     <td> </td>    \n",
       "</tr>\n",
       "</table>\n",
       "<table class=\"simpletable\">\n",
       "<tr>\n",
       "         <td></td>           <th>coef</th>     <th>std err</th>      <th>t</th>      <th>P>|t|</th>  <th>[0.025</th>    <th>0.975]</th>  \n",
       "</tr>\n",
       "<tr>\n",
       "  <th>Intercept</th>      <td> 2.773e+04</td> <td> 2177.934</td> <td>   12.732</td> <td> 0.000</td> <td> 2.35e+04</td> <td>  3.2e+04</td>\n",
       "</tr>\n",
       "<tr>\n",
       "  <th>Education[T.1]</th> <td> 1793.0253</td> <td> 1331.896</td> <td>    1.346</td> <td> 0.179</td> <td> -820.641</td> <td> 4406.691</td>\n",
       "</tr>\n",
       "<tr>\n",
       "  <th>Education[T.2]</th> <td> 6234.4007</td> <td> 1313.047</td> <td>    4.748</td> <td> 0.000</td> <td> 3657.722</td> <td> 8811.080</td>\n",
       "</tr>\n",
       "<tr>\n",
       "  <th>Education[T.3]</th> <td> 8036.8621</td> <td> 1336.979</td> <td>    6.011</td> <td> 0.000</td> <td> 5413.220</td> <td> 1.07e+04</td>\n",
       "</tr>\n",
       "<tr>\n",
       "  <th>Dept[T.1]</th>      <td>-5837.7249</td> <td> 1463.985</td> <td>   -3.988</td> <td> 0.000</td> <td>-8710.599</td> <td>-2964.850</td>\n",
       "</tr>\n",
       "<tr>\n",
       "  <th>Dept[T.2]</th>      <td>-6241.2318</td> <td> 1498.183</td> <td>   -4.166</td> <td> 0.000</td> <td>-9181.215</td> <td>-3301.248</td>\n",
       "</tr>\n",
       "<tr>\n",
       "  <th>Dept[T.3]</th>      <td>-1005.0534</td> <td> 1486.434</td> <td>   -0.676</td> <td> 0.499</td> <td>-3921.980</td> <td> 1911.873</td>\n",
       "</tr>\n",
       "<tr>\n",
       "  <th>Dept[T.4]</th>      <td>-2042.6704</td> <td> 1501.513</td> <td>   -1.360</td> <td> 0.174</td> <td>-4989.188</td> <td>  903.847</td>\n",
       "</tr>\n",
       "<tr>\n",
       "  <th>Gender[T.1]</th>    <td>-9640.5062</td> <td>  950.592</td> <td>  -10.142</td> <td> 0.000</td> <td>-1.15e+04</td> <td>-7775.097</td>\n",
       "</tr>\n",
       "<tr>\n",
       "  <th>Age</th>            <td> 1017.4944</td> <td>   33.123</td> <td>   30.718</td> <td> 0.000</td> <td>  952.494</td> <td> 1082.495</td>\n",
       "</tr>\n",
       "<tr>\n",
       "  <th>Seniority</th>      <td> 9497.7014</td> <td>  341.063</td> <td>   27.847</td> <td> 0.000</td> <td> 8828.412</td> <td> 1.02e+04</td>\n",
       "</tr>\n",
       "</table>\n",
       "<table class=\"simpletable\">\n",
       "<tr>\n",
       "  <th>Omnibus:</th>       <td>26.513</td> <th>  Durbin-Watson:     </th> <td>   1.999</td>\n",
       "</tr>\n",
       "<tr>\n",
       "  <th>Prob(Omnibus):</th> <td> 0.000</td> <th>  Jarque-Bera (JB):  </th> <td>  27.935</td>\n",
       "</tr>\n",
       "<tr>\n",
       "  <th>Skew:</th>          <td> 0.403</td> <th>  Prob(JB):          </th> <td>8.59e-07</td>\n",
       "</tr>\n",
       "<tr>\n",
       "  <th>Kurtosis:</th>      <td> 3.143</td> <th>  Cond. No.          </th> <td>    255.</td>\n",
       "</tr>\n",
       "</table><br/><br/>Notes:<br/>[1] Standard Errors assume that the covariance matrix of the errors is correctly specified."
      ],
      "text/plain": [
       "<class 'statsmodels.iolib.summary.Summary'>\n",
       "\"\"\"\n",
       "                            OLS Regression Results                            \n",
       "==============================================================================\n",
       "Dep. Variable:                BasePay   R-squared:                       0.656\n",
       "Model:                            OLS   Adj. R-squared:                  0.653\n",
       "Method:                 Least Squares   F-statistic:                     188.8\n",
       "Date:                Fri, 04 Mar 2022   Prob (F-statistic):          2.30e-221\n",
       "Time:                        11:13:39   Log-Likelihood:                -11025.\n",
       "No. Observations:                1000   AIC:                         2.207e+04\n",
       "Df Residuals:                     989   BIC:                         2.213e+04\n",
       "Df Model:                          10                                         \n",
       "Covariance Type:            nonrobust                                         \n",
       "==================================================================================\n",
       "                     coef    std err          t      P>|t|      [0.025      0.975]\n",
       "----------------------------------------------------------------------------------\n",
       "Intercept       2.773e+04   2177.934     12.732      0.000    2.35e+04     3.2e+04\n",
       "Education[T.1]  1793.0253   1331.896      1.346      0.179    -820.641    4406.691\n",
       "Education[T.2]  6234.4007   1313.047      4.748      0.000    3657.722    8811.080\n",
       "Education[T.3]  8036.8621   1336.979      6.011      0.000    5413.220    1.07e+04\n",
       "Dept[T.1]      -5837.7249   1463.985     -3.988      0.000   -8710.599   -2964.850\n",
       "Dept[T.2]      -6241.2318   1498.183     -4.166      0.000   -9181.215   -3301.248\n",
       "Dept[T.3]      -1005.0534   1486.434     -0.676      0.499   -3921.980    1911.873\n",
       "Dept[T.4]      -2042.6704   1501.513     -1.360      0.174   -4989.188     903.847\n",
       "Gender[T.1]    -9640.5062    950.592    -10.142      0.000   -1.15e+04   -7775.097\n",
       "Age             1017.4944     33.123     30.718      0.000     952.494    1082.495\n",
       "Seniority       9497.7014    341.063     27.847      0.000    8828.412    1.02e+04\n",
       "==============================================================================\n",
       "Omnibus:                       26.513   Durbin-Watson:                   1.999\n",
       "Prob(Omnibus):                  0.000   Jarque-Bera (JB):               27.935\n",
       "Skew:                           0.403   Prob(JB):                     8.59e-07\n",
       "Kurtosis:                       3.143   Cond. No.                         255.\n",
       "==============================================================================\n",
       "\n",
       "Notes:\n",
       "[1] Standard Errors assume that the covariance matrix of the errors is correctly specified.\n",
       "\"\"\""
      ]
     },
     "execution_count": 73,
     "metadata": {},
     "output_type": "execute_result"
    }
   ],
   "source": [
    "formula = 'BasePay ~ Age + Education + Dept + Seniority + Gender'\n",
    "results = smf.ols(formula, data=glassdoor_df).fit()\n",
    "results.summary()"
   ]
  },
  {
   "cell_type": "code",
   "execution_count": 74,
   "id": "0ec72f7b",
   "metadata": {},
   "outputs": [
    {
     "data": {
      "text/html": [
       "<table class=\"simpletable\">\n",
       "<caption>OLS Regression Results</caption>\n",
       "<tr>\n",
       "  <th>Dep. Variable:</th>         <td>BasePay</td>     <th>  R-squared:         </th> <td>   0.630</td> \n",
       "</tr>\n",
       "<tr>\n",
       "  <th>Model:</th>                   <td>OLS</td>       <th>  Adj. R-squared:    </th> <td>   0.629</td> \n",
       "</tr>\n",
       "<tr>\n",
       "  <th>Method:</th>             <td>Least Squares</td>  <th>  F-statistic:       </th> <td>   565.4</td> \n",
       "</tr>\n",
       "<tr>\n",
       "  <th>Date:</th>             <td>Fri, 04 Mar 2022</td> <th>  Prob (F-statistic):</th> <td>1.72e-214</td>\n",
       "</tr>\n",
       "<tr>\n",
       "  <th>Time:</th>                 <td>11:13:39</td>     <th>  Log-Likelihood:    </th> <td> -11061.</td> \n",
       "</tr>\n",
       "<tr>\n",
       "  <th>No. Observations:</th>      <td>  1000</td>      <th>  AIC:               </th> <td>2.213e+04</td>\n",
       "</tr>\n",
       "<tr>\n",
       "  <th>Df Residuals:</th>          <td>   996</td>      <th>  BIC:               </th> <td>2.215e+04</td>\n",
       "</tr>\n",
       "<tr>\n",
       "  <th>Df Model:</th>              <td>     3</td>      <th>                     </th>     <td> </td>    \n",
       "</tr>\n",
       "<tr>\n",
       "  <th>Covariance Type:</th>      <td>nonrobust</td>    <th>                     </th>     <td> </td>    \n",
       "</tr>\n",
       "</table>\n",
       "<table class=\"simpletable\">\n",
       "<tr>\n",
       "       <td></td>          <th>coef</th>     <th>std err</th>      <th>t</th>      <th>P>|t|</th>  <th>[0.025</th>    <th>0.975]</th>  \n",
       "</tr>\n",
       "<tr>\n",
       "  <th>Intercept</th>   <td> 2.812e+04</td> <td> 1879.700</td> <td>   14.960</td> <td> 0.000</td> <td> 2.44e+04</td> <td> 3.18e+04</td>\n",
       "</tr>\n",
       "<tr>\n",
       "  <th>Gender[T.1]</th> <td>-1.011e+04</td> <td>  978.965</td> <td>  -10.330</td> <td> 0.000</td> <td> -1.2e+04</td> <td>-8191.346</td>\n",
       "</tr>\n",
       "<tr>\n",
       "  <th>Age</th>         <td> 1027.5395</td> <td>   34.183</td> <td>   30.060</td> <td> 0.000</td> <td>  960.460</td> <td> 1094.619</td>\n",
       "</tr>\n",
       "<tr>\n",
       "  <th>Seniority</th>   <td> 9610.1644</td> <td>  350.269</td> <td>   27.437</td> <td> 0.000</td> <td> 8922.815</td> <td> 1.03e+04</td>\n",
       "</tr>\n",
       "</table>\n",
       "<table class=\"simpletable\">\n",
       "<tr>\n",
       "  <th>Omnibus:</th>       <td>29.350</td> <th>  Durbin-Watson:     </th> <td>   1.957</td>\n",
       "</tr>\n",
       "<tr>\n",
       "  <th>Prob(Omnibus):</th> <td> 0.000</td> <th>  Jarque-Bera (JB):  </th> <td>  31.179</td>\n",
       "</tr>\n",
       "<tr>\n",
       "  <th>Skew:</th>          <td> 0.418</td> <th>  Prob(JB):          </th> <td>1.70e-07</td>\n",
       "</tr>\n",
       "<tr>\n",
       "  <th>Kurtosis:</th>      <td> 3.222</td> <th>  Cond. No.          </th> <td>    171.</td>\n",
       "</tr>\n",
       "</table><br/><br/>Notes:<br/>[1] Standard Errors assume that the covariance matrix of the errors is correctly specified."
      ],
      "text/plain": [
       "<class 'statsmodels.iolib.summary.Summary'>\n",
       "\"\"\"\n",
       "                            OLS Regression Results                            \n",
       "==============================================================================\n",
       "Dep. Variable:                BasePay   R-squared:                       0.630\n",
       "Model:                            OLS   Adj. R-squared:                  0.629\n",
       "Method:                 Least Squares   F-statistic:                     565.4\n",
       "Date:                Fri, 04 Mar 2022   Prob (F-statistic):          1.72e-214\n",
       "Time:                        11:13:39   Log-Likelihood:                -11061.\n",
       "No. Observations:                1000   AIC:                         2.213e+04\n",
       "Df Residuals:                     996   BIC:                         2.215e+04\n",
       "Df Model:                           3                                         \n",
       "Covariance Type:            nonrobust                                         \n",
       "===============================================================================\n",
       "                  coef    std err          t      P>|t|      [0.025      0.975]\n",
       "-------------------------------------------------------------------------------\n",
       "Intercept    2.812e+04   1879.700     14.960      0.000    2.44e+04    3.18e+04\n",
       "Gender[T.1] -1.011e+04    978.965    -10.330      0.000    -1.2e+04   -8191.346\n",
       "Age          1027.5395     34.183     30.060      0.000     960.460    1094.619\n",
       "Seniority    9610.1644    350.269     27.437      0.000    8922.815    1.03e+04\n",
       "==============================================================================\n",
       "Omnibus:                       29.350   Durbin-Watson:                   1.957\n",
       "Prob(Omnibus):                  0.000   Jarque-Bera (JB):               31.179\n",
       "Skew:                           0.418   Prob(JB):                     1.70e-07\n",
       "Kurtosis:                       3.222   Cond. No.                         171.\n",
       "==============================================================================\n",
       "\n",
       "Notes:\n",
       "[1] Standard Errors assume that the covariance matrix of the errors is correctly specified.\n",
       "\"\"\""
      ]
     },
     "execution_count": 74,
     "metadata": {},
     "output_type": "execute_result"
    }
   ],
   "source": [
    "formula = 'BasePay ~ Age + Seniority + Gender'\n",
    "results = smf.ols(formula, data=glassdoor_df).fit()\n",
    "results.summary()"
   ]
  },
  {
   "cell_type": "code",
   "execution_count": null,
   "id": "c6156a50",
   "metadata": {},
   "outputs": [],
   "source": []
  }
 ],
 "metadata": {
  "kernelspec": {
   "display_name": "Python 3 (ipykernel)",
   "language": "python",
   "name": "python3"
  },
  "language_info": {
   "codemirror_mode": {
    "name": "ipython",
    "version": 3
   },
   "file_extension": ".py",
   "mimetype": "text/x-python",
   "name": "python",
   "nbconvert_exporter": "python",
   "pygments_lexer": "ipython3",
   "version": "3.9.7"
  }
 },
 "nbformat": 4,
 "nbformat_minor": 5
}
